{
 "cells": [
  {
   "cell_type": "code",
   "execution_count": 11,
   "metadata": {
    "collapsed": true
   },
   "outputs": [],
   "source": [
    "import pandas as pd\n",
    "import pyodbc\n",
    "import numpy as np\n",
    "from matplotlib import pyplot as plt\n",
    "%matplotlib inline"
   ]
  },
  {
   "cell_type": "code",
   "execution_count": 2,
   "metadata": {
    "collapsed": true
   },
   "outputs": [],
   "source": [
    "\n",
    "driver= '{ODBC Driver 13 for SQL Server}'\n",
    "cnxn = pyodbc.connect('DRIVER='+driver+';PORT=1433;SERVER='+\\\n",
    "                      server+';PORT=1443;DATABASE='+database+';UID='+username+';PWD='+ password)\n",
    "#cursor = cnxn.cursor()"
   ]
  },
  {
   "cell_type": "code",
   "execution_count": 3,
   "metadata": {
    "collapsed": true
   },
   "outputs": [],
   "source": [
    "data = pd.read_sql_query(\"\"\"select b.[user_id],a.[order_id],\n",
    "a.[product_id],a.[reordered],c.[freq_product_laplace],c.[freq_product]\n",
    "from [dbo].[order_products__prior] a\n",
    "left join dbo.orders b on a.[order_id]=b.[order_id]\n",
    "left join [dbo].[frequency_probability] c on b.[user_id]=c.[user_id] and a.[product_id]=c.[product_id]\n",
    "\"\"\",cnxn, coerce_float = True)"
   ]
  },
  {
   "cell_type": "code",
   "execution_count": 10,
   "metadata": {
    "collapsed": true
   },
   "outputs": [],
   "source": [
    "data['target'] = data.reordered.astype(int)"
   ]
  },
  {
   "cell_type": "code",
   "execution_count": 12,
   "metadata": {},
   "outputs": [
    {
     "data": {
      "text/html": [
       "<div>\n",
       "<style>\n",
       "    .dataframe thead tr:only-child th {\n",
       "        text-align: right;\n",
       "    }\n",
       "\n",
       "    .dataframe thead th {\n",
       "        text-align: left;\n",
       "    }\n",
       "\n",
       "    .dataframe tbody tr th {\n",
       "        vertical-align: top;\n",
       "    }\n",
       "</style>\n",
       "<table border=\"1\" class=\"dataframe\">\n",
       "  <thead>\n",
       "    <tr style=\"text-align: right;\">\n",
       "      <th></th>\n",
       "      <th>user_id</th>\n",
       "      <th>order_id</th>\n",
       "      <th>product_id</th>\n",
       "      <th>reordered</th>\n",
       "      <th>freq_product_laplace</th>\n",
       "      <th>freq_product</th>\n",
       "      <th>target</th>\n",
       "    </tr>\n",
       "  </thead>\n",
       "  <tbody>\n",
       "    <tr>\n",
       "      <th>0</th>\n",
       "      <td>193700</td>\n",
       "      <td>59534</td>\n",
       "      <td>32747</td>\n",
       "      <td>1</td>\n",
       "      <td>0.0534</td>\n",
       "      <td>0.0691</td>\n",
       "      <td>1</td>\n",
       "    </tr>\n",
       "    <tr>\n",
       "      <th>1</th>\n",
       "      <td>193700</td>\n",
       "      <td>59534</td>\n",
       "      <td>19508</td>\n",
       "      <td>0</td>\n",
       "      <td>0.0046</td>\n",
       "      <td>0.0041</td>\n",
       "      <td>0</td>\n",
       "    </tr>\n",
       "    <tr>\n",
       "      <th>2</th>\n",
       "      <td>193700</td>\n",
       "      <td>59534</td>\n",
       "      <td>26209</td>\n",
       "      <td>1</td>\n",
       "      <td>0.0137</td>\n",
       "      <td>0.0163</td>\n",
       "      <td>1</td>\n",
       "    </tr>\n",
       "    <tr>\n",
       "      <th>3</th>\n",
       "      <td>193700</td>\n",
       "      <td>59534</td>\n",
       "      <td>42736</td>\n",
       "      <td>1</td>\n",
       "      <td>0.0244</td>\n",
       "      <td>0.0305</td>\n",
       "      <td>1</td>\n",
       "    </tr>\n",
       "    <tr>\n",
       "      <th>4</th>\n",
       "      <td>193700</td>\n",
       "      <td>59534</td>\n",
       "      <td>34243</td>\n",
       "      <td>0</td>\n",
       "      <td>0.0031</td>\n",
       "      <td>0.0020</td>\n",
       "      <td>0</td>\n",
       "    </tr>\n",
       "  </tbody>\n",
       "</table>\n",
       "</div>"
      ],
      "text/plain": [
       "  user_id order_id product_id reordered  freq_product_laplace  freq_product  \\\n",
       "0  193700    59534      32747         1                0.0534        0.0691   \n",
       "1  193700    59534      19508         0                0.0046        0.0041   \n",
       "2  193700    59534      26209         1                0.0137        0.0163   \n",
       "3  193700    59534      42736         1                0.0244        0.0305   \n",
       "4  193700    59534      34243         0                0.0031        0.0020   \n",
       "\n",
       "   target  \n",
       "0       1  \n",
       "1       0  \n",
       "2       1  \n",
       "3       1  \n",
       "4       0  "
      ]
     },
     "execution_count": 12,
     "metadata": {},
     "output_type": "execute_result"
    }
   ],
   "source": [
    "data.head()"
   ]
  },
  {
   "cell_type": "code",
   "execution_count": 15,
   "metadata": {},
   "outputs": [
    {
     "data": {
      "image/png": "[encoded data removed]",
      "text/plain": [
       "<matplotlib.figure.Figure at 0x1e00d7c9c88>"
      ]
     },
     "metadata": {},
     "output_type": "display_data"
    }
   ],
   "source": [
    "from sklearn import metrics\n",
    "\n",
    "#Split train and test\n",
    "# X_train, X_test, Y_train, Y_test = train_test_split(X, Y, train_size=.8, test_size=0.2)\n",
    "\n",
    "# Fit a logistic regression model\n",
    "# for c in [0.001, 0.01, 0.1, 1.0, 10, 100]:\n",
    "#     model = LogisticRegression(C=c)\n",
    "#     model.fit(X_train, Y_train)\n",
    "\n",
    "# Get the probability of Y_test records being = 1\n",
    "Y_test_probability_1 = data['freq_product_laplace']\n",
    "Y_test =data['target']\n",
    "\n",
    "# Use the metrics.roc_curve function to get the true positive rate (tpr) and false positive rate (fpr)\n",
    "fpr, tpr, thresholds = metrics.roc_curve(Y_test, Y_test_probability_1)\n",
    "    \n",
    "\n",
    "# Plot the ROC curve\n",
    "plt.plot(fpr, tpr )#, label=\"C=%s\" % c)\n",
    "    \n",
    "plt.xlabel(\"False positive rate (fpr)\")\n",
    "plt.ylabel(\"True positive rate (tpr)\")\n",
    "plt.plot([0,1], [0,1], 'k--', label=\"Random\")\n",
    "plt.legend(loc=2)\n",
    "plt.show()"
   ]
  },
  {
   "cell_type": "code",
   "execution_count": 38,
   "metadata": {
    "collapsed": true
   },
   "outputs": [],
   "source": [
    "# h = pd.DataFrame({'tp' :tpr,'fp':fpr,'thr':thresholds})\n",
    "# h[(h.fp<=0.5) & (h.fp>=0.35)]\n",
    "#order\n",
    "#np.argsort(Y_test_probability)[::-1]"
   ]
  },
  {
   "cell_type": "code",
   "execution_count": 39,
   "metadata": {},
   "outputs": [
    {
     "data": {
      "image/png": "[encoded data removed]",
      "text/plain": [
       "<matplotlib.figure.Figure at 0x1e00dbc2080>"
      ]
     },
     "metadata": {},
     "output_type": "display_data"
    }
   ],
   "source": [
    "# Fit a logistic regression model\n",
    "#model = LogisticRegression(C=1.0)\n",
    "#model.fit(X_train, Y_train)\n",
    "\n",
    "# Get the predicted value and the probability of Y_test records being = 1\n",
    "Y_test_predicted = np.array([ 1 if p >= 0.0122 else 0 for p in data['freq_product_laplace'] ])\n",
    "Y_test_probability = np.array(data['freq_product_laplace'])\n",
    "#Y_test_probability_1 = \n",
    "Y_test =np.array(data['target'])\n",
    "\n",
    "\n",
    "# Sort these predictions, probabilities, and the true value in descending order of probability\n",
    "order = np.argsort(Y_test_probability)[::-1]\n",
    "Y_test_predicted_sorted = Y_test_predicted[order]\n",
    "Y_test_sorted = np.array(Y_test)[order]\n",
    "\n",
    "total_test_positives = Y_test.sum()\n",
    "\n",
    "y_cumulative = Y_test_sorted.cumsum()*100/float(total_test_positives)\n",
    "x_cumulative = np.linspace(1, len(y_cumulative), len(y_cumulative))*100/len(y_cumulative)\n",
    "\n",
    "\n",
    "# Plot\n",
    "plt.plot(x_cumulative, y_cumulative, label=\"Classifier\")\n",
    "plt.plot([0,100], [0,100], 'k--', label=\"Random\")\n",
    "plt.xlabel(\"Percentage of test instances targeted (decreasing score)\")\n",
    "plt.ylabel(\"Percentage of positives targeted\")\n",
    "plt.title(\"Cumulative response curve\")\n",
    "plt.legend()\n",
    "plt.show()"
   ]
  },
  {
   "cell_type": "code",
   "execution_count": null,
   "metadata": {
    "collapsed": true
   },
   "outputs": [],
   "source": []
  }
 ],
 "metadata": {
  "kernelspec": {
   "display_name": "Python [conda root]",
   "language": "python",
   "name": "conda-root-py"
  },
  "language_info": {
   "codemirror_mode": {
    "name": "ipython",
    "version": 3
   },
   "file_extension": ".py",
   "mimetype": "text/x-python",
   "name": "python",
   "nbconvert_exporter": "python",
   "pygments_lexer": "ipython3",
   "version": "3.5.4"
  }
 },
 "nbformat": 4,
 "nbformat_minor": 2
}
