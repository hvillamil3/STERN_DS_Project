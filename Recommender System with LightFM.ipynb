{
 "cells": [
  {
   "cell_type": "code",
   "execution_count": 1,
   "metadata": {
    "collapsed": true
   },
   "outputs": [],
   "source": [
    "#!pip install LightFM"
   ]
  },
  {
   "cell_type": "markdown",
   "metadata": {},
   "source": [
    "### Import All Data"
   ]
  },
  {
   "cell_type": "code",
   "execution_count": 2,
   "metadata": {
    "collapsed": true
   },
   "outputs": [],
   "source": [
    "import pandas as pd\n",
    "products=pd.read_csv(\"products.csv\",index_col=None,header=0)\n",
    "dept=pd.read_csv(\"departments.csv\",index_col=None,header=0)\n",
    "aisles=pd.read_csv(\"aisles.csv\",index_col=None,header=0)\n",
    "orders_product =pd.read_csv(\"order_products__prior.csv\",index_col=None,header=0)\n",
    "orders = pd.read_csv(\"orders.csv\",index_col=None,header=0)"
   ]
  },
  {
   "cell_type": "markdown",
   "metadata": {},
   "source": [
    "### Create a flat dataframe with 5k users\n"
   ]
  },
  {
   "cell_type": "code",
   "execution_count": 3,
   "metadata": {
    "collapsed": true
   },
   "outputs": [],
   "source": [
    "orders_s = orders[['order_id','user_id']].where(orders.user_id <= 20000).dropna()   #just use 5000 users\n",
    "orders_s['user_id'] = orders_s['user_id'].astype(int)\n",
    "orders_product_s = orders_product[['order_id','product_id']]\n",
    "data=orders_product_s.merge(orders_s,on=\"order_id\")\n",
    "data=data.merge(products,on=\"product_id\")\n",
    "data=data.merge(aisles,on=\"aisle_id\")\n",
    "data=data.merge(dept,on=\"department_id\")\n",
    "data[\"product_desc\"] = data[\"product_name\"] + \", \" + data[\"aisle\"] + \", \" + data[\"department\"]\n",
    "data = data.dropna()"
   ]
  },
  {
   "cell_type": "code",
   "execution_count": 4,
   "metadata": {},
   "outputs": [
    {
     "data": {
      "text/plain": [
       "0     3107\n",
       "1    19074\n",
       "2    13805\n",
       "3    18865\n",
       "4     1699\n",
       "Name: user_id, dtype: int32"
      ]
     },
     "execution_count": 4,
     "metadata": {},
     "output_type": "execute_result"
    }
   ],
   "source": [
    "data['user_id'].head(5)"
   ]
  },
  {
   "cell_type": "markdown",
   "metadata": {},
   "source": [
    "### dataframe with just required fields"
   ]
  },
  {
   "cell_type": "code",
   "execution_count": 5,
   "metadata": {
    "collapsed": true
   },
   "outputs": [],
   "source": [
    "data_small = data[['user_id','product_id','product_name', 'product_desc']].groupby(['user_id','product_id','product_name', 'product_desc']).size().reset_index(name=\"count\")\n",
    "data_small['purchased'] = 1"
   ]
  },
  {
   "cell_type": "code",
   "execution_count": 6,
   "metadata": {
    "collapsed": true
   },
   "outputs": [],
   "source": [
    "### create a product_id to product_name lookup\n",
    "products_small = (data_small[['product_id','product_name']].drop_duplicates()).set_index('product_id')"
   ]
  },
  {
   "cell_type": "markdown",
   "metadata": {},
   "source": [
    "### Split data into train and test"
   ]
  },
  {
   "cell_type": "markdown",
   "metadata": {},
   "source": [
    "** Need to ensure both test and train have the same dimensions and user, product tupples"
   ]
  },
  {
   "cell_type": "code",
   "execution_count": 7,
   "metadata": {},
   "outputs": [],
   "source": [
    "# from lightfm.cross_validation import random_train_test_split\n",
    "\n",
    "\n",
    "# coo = coo_matrix((data_small['purchased'],(data_small['user_id'],data_small['product_id'])))  #full sparse matrix\n",
    "# coo_train, coo_test = random_train_test_split(coo, test_percentage=0.2, random_state=None)  #train and test sets"
   ]
  },
  {
   "cell_type": "code",
   "execution_count": 8,
   "metadata": {
    "collapsed": true
   },
   "outputs": [],
   "source": [
    "from scipy.sparse import coo_matrix\n",
    "import numpy as np\n",
    "msk = np.random.rand(len(data_small)) < 0.8\n",
    "traindf = data_small[msk]\n",
    "testdf = data_small[~msk]\n",
    "\n",
    "train = coo_matrix((data_small[msk]['purchased'],(data_small[msk]['user_id'],data_small[msk]['product_id'])))\n",
    "test = coo_matrix((data_small[~msk]['purchased'],(data_small[~msk]['user_id'],data_small[~msk]['product_id'])))"
   ]
  },
  {
   "cell_type": "code",
   "execution_count": 12,
   "metadata": {},
   "outputs": [
    {
     "data": {
      "text/plain": [
       "((20001, 49689), (20001, 49689))"
      ]
     },
     "execution_count": 12,
     "metadata": {},
     "output_type": "execute_result"
    }
   ],
   "source": [
    "#coo_train.shape, coo_test.shape, \n",
    "train.shape, test.shape"
   ]
  },
  {
   "cell_type": "markdown",
   "metadata": {},
   "source": [
    "## Model"
   ]
  },
  {
   "cell_type": "markdown",
   "metadata": {},
   "source": [
    " - Popularity model: Reccomend the k most popular products in the train set."
   ]
  },
  {
   "cell_type": "code",
   "execution_count": 13,
   "metadata": {
    "collapsed": true
   },
   "outputs": [],
   "source": [
    "top10 = list(traindf.product_id.value_counts()[:10])"
   ]
  },
  {
   "cell_type": "markdown",
   "metadata": {},
   "source": [
    " - LightFm model: Use the bpr algoritm to reccomend products."
   ]
  },
  {
   "cell_type": "code",
   "execution_count": 14,
   "metadata": {},
   "outputs": [
    {
     "name": "stderr",
     "output_type": "stream",
     "text": [
      "C:\\Anaconda\\lib\\site-packages\\lightfm\\_lightfm_fast.py:9: UserWarning: LightFM was compiled without OpenMP support. Only a single thread will be used.\n",
      "  warnings.warn('LightFM was compiled without OpenMP support. '\n"
     ]
    },
    {
     "data": {
      "text/plain": [
       "<lightfm.lightfm.LightFM at 0x1f2f5718860>"
      ]
     },
     "execution_count": 14,
     "metadata": {},
     "output_type": "execute_result"
    }
   ],
   "source": [
    "import os.path\n",
    "import numpy as np\n",
    "from lightfm import LightFM\n",
    "\n",
    "\n",
    "model_warp = LightFM(loss='warp')\n",
    "model_bpr = LightFM(loss='bpr')\n",
    "model_logistic = LightFM(loss='logistic')\n",
    "\n",
    "model_warp.fit(train, epochs=2, num_threads=4) \n",
    "model_bpr.fit(train, epochs=2, num_threads=4)\n",
    "model_logistic.fit(train, epochs=2, num_threads=4)"
   ]
  },
  {
   "cell_type": "markdown",
   "metadata": {},
   "source": [
    "### Recommendations"
   ]
  },
  {
   "cell_type": "code",
   "execution_count": 21,
   "metadata": {},
   "outputs": [
    {
     "name": "stdout",
     "output_type": "stream",
     "text": [
      "Recomendations for user 1:\n",
      "Banana\n",
      "Bag of Organic Bananas\n",
      "Organic Strawberries\n",
      "Organic Baby Spinach\n",
      "Large Lemon\n",
      "Limes\n",
      "Organic Hass Avocado\n",
      "Organic Garlic\n",
      "Organic Avocado\n",
      "Organic Blueberries\n"
     ]
    }
   ],
   "source": [
    "def get_recommendations(model, coo_mtrx, users_id, k):\n",
    "    n_items = coo_mtrx.shape[1]\n",
    "    scores = model.predict(users_id, np.arange(n_items))\n",
    "    top_scores = np.argsort(-scores)[:k]\n",
    "\n",
    "    print ('Recomendations for user %s:' % users_id)\n",
    "\n",
    "    for x in top_scores.tolist():\n",
    "        print(products_small.loc[x].product_name)\n",
    "        \n",
    "get_recommendations(model_bpr, test, 1, 10)"
   ]
  },
  {
   "cell_type": "code",
   "execution_count": 22,
   "metadata": {},
   "outputs": [
    {
     "name": "stdout",
     "output_type": "stream",
     "text": [
      "Recomendations for user 10:\n",
      "Banana\n",
      "Organic Strawberries\n",
      "Organic Baby Spinach\n",
      "Limes\n",
      "Bag of Organic Bananas\n",
      "Large Lemon\n",
      "Organic Garlic\n",
      "Organic Avocado\n",
      "Organic Hass Avocado\n",
      "Organic Yellow Onion\n"
     ]
    }
   ],
   "source": [
    "get_recommendations(model_bpr, test, 10, 10)"
   ]
  },
  {
   "cell_type": "markdown",
   "metadata": {},
   "source": [
    "## Evaluation"
   ]
  },
  {
   "cell_type": "code",
   "execution_count": 15,
   "metadata": {
    "collapsed": true
   },
   "outputs": [],
   "source": [
    "from lightfm.evaluation import precision_at_k\n",
    "from lightfm.evaluation import recall_at_k\n",
    "from lightfm.evaluation import reciprocal_rank"
   ]
  },
  {
   "cell_type": "code",
   "execution_count": 16,
   "metadata": {
    "collapsed": true
   },
   "outputs": [],
   "source": [
    "# Need to transform test set in order to evaluate all products on a per user basis.\n",
    "processedtest = testdf.groupby('user_id')['product_id'].apply(list)"
   ]
  },
  {
   "cell_type": "markdown",
   "metadata": {},
   "source": [
    "### Precision-Recall curve\n",
    " - Define methods to calculate precision and recall for reccomending the k most popular products in train set."
   ]
  },
  {
   "cell_type": "code",
   "execution_count": 17,
   "metadata": {
    "collapsed": true
   },
   "outputs": [],
   "source": [
    "def precision(userlist,reco):\n",
    "    \"\"\"\n",
    "    Measure the precision at k metric for a model: \n",
    "    \n",
    "    Parameters\n",
    "    ----------\n",
    "    userlist: list of product ids per user in the test set.\n",
    "    reco: list of k recommendations from the model.\n",
    "    \n",
    "    \"\"\"\n",
    "    hits = len(list(set(userlist) & set(reco)))\n",
    "    return hits/len(reco)"
   ]
  },
  {
   "cell_type": "code",
   "execution_count": 18,
   "metadata": {
    "collapsed": true
   },
   "outputs": [],
   "source": [
    "def recall(userlist,reco):\n",
    "    \"\"\"\n",
    "    Measure the recall at k metric a the model: \n",
    "    \n",
    "    Parameters\n",
    "    ----------\n",
    "    userlist: list of product ids per user in the test set.\n",
    "    reco: list of k recommendations from the model.\n",
    "    \n",
    "    \"\"\"\n",
    "    \n",
    "    hits = len(list(set(userlist) & set(reco)))\n",
    "    return hits/len(userlist)\n",
    "    "
   ]
  },
  {
   "cell_type": "markdown",
   "metadata": {},
   "source": [
    " - Calculate Precision and Recall for reccomending the k most popular items in the training set.\n",
    "Evaluated k between 1 to 15."
   ]
  },
  {
   "cell_type": "code",
   "execution_count": 31,
   "metadata": {
    "collapsed": true
   },
   "outputs": [],
   "source": [
    "precision_scorefreq = []\n",
    "recall_scorefreq =[]\n",
    "for k in range(1,15):\n",
    "    topk = list(traindf.product_id.value_counts()[:k])\n",
    "    preci =[]\n",
    "    recal = []\n",
    "    for i,c in enumerate(processedtest) :\n",
    "        preci.append(precision(c,topk ) )\n",
    "        recal.append( recall(c,topk ) )\n",
    "    precision_scorefreq.append(np.mean(preci) )\n",
    "    recall_scorefreq.append(np.mean(recal) )"
   ]
  },
  {
   "cell_type": "markdown",
   "metadata": {},
   "source": [
    " - Calculate precision and recall @ k from the LightFm models. Evaluated k between 1 to 15."
   ]
  },
  {
   "cell_type": "code",
   "execution_count": 32,
   "metadata": {
    "collapsed": true
   },
   "outputs": [],
   "source": [
    "precision_scores = []\n",
    "recall_scores =[]\n",
    "for x in range(1,15):\n",
    "    precision_scores.append(precision_at_k(model_bpr, test, k=x, num_threads=4).mean())\n",
    "    recall_scores.append(recall_at_k(model_bpr, test, k=x, num_threads=4).mean())\n",
    "    #print(2)"
   ]
  },
  {
   "cell_type": "code",
   "execution_count": 33,
   "metadata": {
    "collapsed": true
   },
   "outputs": [],
   "source": [
    "precision_scores_warp = []\n",
    "recall_scores_warp =[]\n",
    "for x in range(1,15):\n",
    "    precision_scores_warp.append(precision_at_k(model_warp, test, k=x, num_threads=4).mean())\n",
    "    recall_scores_warp.append(recall_at_k(model_warp, test, k=x, num_threads=4).mean())\n",
    "    #print(2)"
   ]
  },
  {
   "cell_type": "code",
   "execution_count": 34,
   "metadata": {
    "collapsed": true
   },
   "outputs": [],
   "source": [
    "precision_scores_logistic = []\n",
    "recall_scores_logistic =[]\n",
    "for x in range(1,15):\n",
    "    precision_scores_logistic.append(precision_at_k(model_logistic, test, k=x, num_threads=4).mean())\n",
    "    recall_scores_logistic.append(recall_at_k(model_logistic, test, k=x, num_threads=4).mean())\n",
    "    #print(2)"
   ]
  },
  {
   "cell_type": "markdown",
   "metadata": {},
   "source": [
    " - Plot curves"
   ]
  },
  {
   "cell_type": "code",
   "execution_count": 35,
   "metadata": {},
   "outputs": [
    {
     "data": {
      "text/plain": [
       "'fin'"
      ]
     },
     "execution_count": 35,
     "metadata": {},
     "output_type": "execute_result"
    }
   ],
   "source": [
    "\"fin\""
   ]
  },
  {
   "cell_type": "code",
   "execution_count": 36,
   "metadata": {},
   "outputs": [
    {
     "data": {
      "text/plain": [
       "Text(0,0.5,'Precision')"
      ]
     },
     "execution_count": 36,
     "metadata": {},
     "output_type": "execute_result"
    },
    {
     "data": {
      "image/png": "[encoded data removed]",
      "text/plain": [
       "<matplotlib.figure.Figure at 0x22c7fb716d8>"
      ]
     },
     "metadata": {},
     "output_type": "display_data"
    }
   ],
   "source": [
    "from sklearn.metrics import precision_recall_curve\n",
    "import matplotlib.pyplot as plt\n",
    "\n",
    "%matplotlib inline\n",
    "\n",
    "#precision, recall, thresholds = precision_recall_curve(y_test, probas_pred = y_score)\n",
    "\n",
    "plt.step(recall_scorefreq, precision_scorefreq, color='b', alpha=0.2,\n",
    "         where='post')\n",
    "\n",
    "plt.fill_between(recall_scorefreq, precision_scorefreq, step='post', alpha=0.2,\n",
    "                 color='b')\n",
    "plt.title('Precision-Recall @k curve:\\n Recommend k most popular products from train set (k between 1-15)')\n",
    "plt.ylim([0.0, 0.0006])\n",
    "plt.xlim([0.0, 0.0003])\n",
    "plt.xlabel('Recall')\n",
    "plt.ylabel('Precision')"
   ]
  },
  {
   "cell_type": "code",
   "execution_count": 37,
   "metadata": {
    "collapsed": true
   },
   "outputs": [],
   "source": [
    "from sklearn.metrics import precision_recall_curve\n",
    "import matplotlib.pyplot as plt\n",
    "%matplotlib inline"
   ]
  },
  {
   "cell_type": "code",
   "execution_count": 38,
   "metadata": {},
   "outputs": [
    {
     "data": {
      "text/plain": [
       "(0.0, 0.1)"
      ]
     },
     "execution_count": 38,
     "metadata": {},
     "output_type": "execute_result"
    },
    {
     "data": {
      "image/png": "[encoded data removed]",
      "text/plain": [
       "<matplotlib.figure.Figure at 0x22c79aeca90>"
      ]
     },
     "metadata": {},
     "output_type": "display_data"
    }
   ],
   "source": [
    "plt.step(recall_scores_warp, precision_scores_warp, color='r', alpha=0.2, where='post' , label='Lightfm - Warp')\n",
    "plt.fill_between(recall_scores_warp, precision_scores_warp, step='post', alpha=0.2, color='r')\n",
    "\n",
    "plt.step(recall_scores, precision_scores, color='g', alpha=0.2, where='post', label='Lightfm - BPR')\n",
    "plt.fill_between(recall_scores, precision_scores, step='post', alpha=0.2, color='g')\n",
    "\n",
    "plt.step(recall_scores_logistic, precision_scores_logistic, color='y', alpha=0.2, where='post', label='Lightfm - Logistic')\n",
    "plt.fill_between(recall_scores_logistic, precision_scores_logistic, step='post', alpha=0.2, color='y')\n",
    "\n",
    "plt.legend()\n",
    "plt.title('Precision-Recall @k curve:\\n LightFm models (k between 1-15)')\n",
    "plt.xlabel('Recall')\n",
    "plt.ylabel('Precision')\n",
    "plt.ylim([0.0, 0.15])\n",
    "plt.xlim([0.0, 0.1])"
   ]
  },
  {
   "cell_type": "code",
   "execution_count": 39,
   "metadata": {},
   "outputs": [
    {
     "data": {
      "text/plain": [
       "(0.0, 0.008)"
      ]
     },
     "execution_count": 39,
     "metadata": {},
     "output_type": "execute_result"
    },
    {
     "data": {
      "image/png": "[encoded data removed]",
      "text/plain": [
       "<matplotlib.figure.Figure at 0x22c744cbf28>"
      ]
     },
     "metadata": {},
     "output_type": "display_data"
    }
   ],
   "source": [
    "plt.step(recall_scorefreq, precision_scorefreq, color='b', alpha=0.2, where='post', label='Top 10')\n",
    "plt.fill_between(recall_scorefreq, precision_scorefreq, step='post', alpha=0.2, color='b')\n",
    "# Lightfm - BPR\n",
    "plt.step(recall_scores, precision_scores, color='g', alpha=0.2, where='post', label='Lightfm - BPR')\n",
    "plt.fill_between(recall_scores, precision_scores, step='post', alpha=0.2, color='g')\n",
    "\n",
    "plt.legend()\n",
    "plt.title('Precision-Recall @k curve:\\n LightFm BPR model and Popularity model (k between 1-15)')\n",
    "plt.xlabel('Recall')\n",
    "plt.ylabel('Precision')\n",
    "plt.ylim([0.0, 0.008])\n",
    "plt.xlim([0.0, 0.008])"
   ]
  },
  {
   "cell_type": "markdown",
   "metadata": {},
   "source": [
    "### Reciprocal Mean"
   ]
  },
  {
   "cell_type": "code",
   "execution_count": 40,
   "metadata": {},
   "outputs": [
    {
     "data": {
      "text/plain": [
       "4.0066505279222216e-05"
      ]
     },
     "execution_count": 40,
     "metadata": {},
     "output_type": "execute_result"
    }
   ],
   "source": [
    "recip_mean = []\n",
    "for i,r in enumerate(processedtest):\n",
    "    reciprocal = []\n",
    "    #topk = list(traindf.product_id.value_counts()[:10])\n",
    "    for n , x in enumerate(top10):\n",
    "        if x in r:\n",
    "            reciprocal.append(1/(n + 1))\n",
    "        else:\n",
    "            reciprocal.append(0)\n",
    "    recip_mean.append(np.mean(reciprocal))\n",
    "np.mean(recip_mean)"
   ]
  },
  {
   "cell_type": "code",
   "execution_count": null,
   "metadata": {},
   "outputs": [
    {
     "data": {
      "text/plain": [
       "0.16205502"
      ]
     },
     "execution_count": 41,
     "metadata": {},
     "output_type": "execute_result"
    }
   ],
   "source": [
    "recip = reciprocal_rank(model_bpr,test_interactions=test)\n",
    "recip.mean()"
   ]
  },
  {
   "cell_type": "code",
   "execution_count": 23,
   "metadata": {},
   "outputs": [
    {
     "data": {
      "text/plain": [
       "0.16763107"
      ]
     },
     "execution_count": 23,
     "metadata": {},
     "output_type": "execute_result"
    }
   ],
   "source": [
    "recip = reciprocal_rank(model_warp,test_interactions=test)\n",
    "recip.mean()"
   ]
  },
  {
   "cell_type": "code",
   "execution_count": 24,
   "metadata": {},
   "outputs": [
    {
     "data": {
      "text/plain": [
       "0.16415031"
      ]
     },
     "execution_count": 24,
     "metadata": {},
     "output_type": "execute_result"
    }
   ],
   "source": [
    "recip = reciprocal_rank(model_logistic,test_interactions=test)\n",
    "recip.mean()"
   ]
  },
  {
   "cell_type": "code",
   "execution_count": null,
   "metadata": {
    "collapsed": true
   },
   "outputs": [],
   "source": []
  }
 ],
 "metadata": {
  "kernelspec": {
   "display_name": "Python [default]",
   "language": "python",
   "name": "python3"
  },
  "language_info": {
   "codemirror_mode": {
    "name": "ipython",
    "version": 3
   },
   "file_extension": ".py",
   "mimetype": "text/x-python",
   "name": "python",
   "nbconvert_exporter": "python",
   "pygments_lexer": "ipython3",
   "version": "3.6.3"
  }
 },
 "nbformat": 4,
 "nbformat_minor": 2
}
