{
 "cells": [
  {
   "cell_type": "code",
   "execution_count": 528,
   "metadata": {},
   "outputs": [
    {
     "name": "stdout",
     "output_type": "stream",
     "text": [
      "matchObj.group() :  Cats are smarter than dogs\n",
      "matchObj.group(1) :  Cats\n",
      "matchObj.group(2) :  smarter\n"
     ]
    }
   ],
   "source": [
    "#!/usr/bin/python3\n",
    "import re\n",
    "\n",
    "line = \"Cats are smarter than dogs\"\n",
    "\n",
    "matchObj = re.match( r'(.*) are (.*?) .*', line, re.M|re.I)\n",
    "\n",
    "if matchObj:\n",
    "    print (\"matchObj.group() : \", matchObj.group())\n",
    "    print (\"matchObj.group(1) : \", matchObj.group(1))\n",
    "    print (\"matchObj.group(2) : \", matchObj.group(2))\n",
    "else:\n",
    "    print (\"No match!!\")"
   ]
  },
  {
   "cell_type": "code",
   "execution_count": 529,
   "metadata": {
    "collapsed": true
   },
   "outputs": [],
   "source": [
    "import pandas as pd"
   ]
  },
  {
   "cell_type": "code",
   "execution_count": 530,
   "metadata": {
    "collapsed": true
   },
   "outputs": [],
   "source": [
    "import pyodbc\n",
    "\n",
    "driver= '{ODBC Driver 13 for SQL Server}'\n",
    "cnxn = pyodbc.connect('DRIVER='+driver+';PORT=1433;SERVER='+server+';PORT=1443;DATABASE='+database+';UID='+username+';PWD='+ password)\n",
    "cursor = cnxn.cursor()"
   ]
  },
  {
   "cell_type": "code",
   "execution_count": 531,
   "metadata": {
    "collapsed": true
   },
   "outputs": [],
   "source": [
    "Products = pd.read_sql_query('''\n",
    "select *\n",
    "from products\n",
    "''',cnxn, coerce_float = False)\n"
   ]
  },
  {
   "cell_type": "code",
   "execution_count": 532,
   "metadata": {
    "collapsed": true
   },
   "outputs": [],
   "source": [
    "Products1 = pd.read_sql_query('''\n",
    "select a.product_id, a.product_name\n",
    "from (select distinct [product_id], [product_name]\n",
    "from [dbo].[products]) a\n",
    "left join (select distinct product_id\n",
    "from [dbo].[prices]) b on a.product_id=b.product_id\n",
    "where b.product_id is null\n",
    "''',cnxn, coerce_float = False)"
   ]
  },
  {
   "cell_type": "code",
   "execution_count": 533,
   "metadata": {
    "collapsed": true
   },
   "outputs": [],
   "source": [
    "Products1['product_name'] = Products1.product_name.apply(lambda x: ''.join([i for i in x.replace('%','').replace('#','') if not i.isdigit()]).replace('  ',' ') )"
   ]
  },
  {
   "cell_type": "code",
   "execution_count": 534,
   "metadata": {},
   "outputs": [
    {
     "data": {
      "text/html": [
       "<div>\n",
       "<style>\n",
       "    .dataframe thead tr:only-child th {\n",
       "        text-align: right;\n",
       "    }\n",
       "\n",
       "    .dataframe thead th {\n",
       "        text-align: left;\n",
       "    }\n",
       "\n",
       "    .dataframe tbody tr th {\n",
       "        vertical-align: top;\n",
       "    }\n",
       "</style>\n",
       "<table border=\"1\" class=\"dataframe\">\n",
       "  <thead>\n",
       "    <tr style=\"text-align: right;\">\n",
       "      <th></th>\n",
       "      <th>product_id</th>\n",
       "      <th>product_name</th>\n",
       "    </tr>\n",
       "  </thead>\n",
       "  <tbody>\n",
       "    <tr>\n",
       "      <th>0</th>\n",
       "      <td>10002</td>\n",
       "      <td>Full Jaw Cuticle Nipper</td>\n",
       "    </tr>\n",
       "    <tr>\n",
       "      <th>1</th>\n",
       "      <td>10007</td>\n",
       "      <td>GUM Proxabrush Go-Betweens Cleaners Tight</td>\n",
       "    </tr>\n",
       "    <tr>\n",
       "      <th>2</th>\n",
       "      <td>10020</td>\n",
       "      <td>IPA Hop Hunter</td>\n",
       "    </tr>\n",
       "    <tr>\n",
       "      <th>3</th>\n",
       "      <td>10023</td>\n",
       "      <td>Raw Dark Cacao Bar</td>\n",
       "    </tr>\n",
       "    <tr>\n",
       "      <th>4</th>\n",
       "      <td>10037</td>\n",
       "      <td>Over Tired and Cranky Bubble Bath</td>\n",
       "    </tr>\n",
       "  </tbody>\n",
       "</table>\n",
       "</div>"
      ],
      "text/plain": [
       "  product_id                               product_name\n",
       "0      10002                    Full Jaw Cuticle Nipper\n",
       "1      10007  GUM Proxabrush Go-Betweens Cleaners Tight\n",
       "2      10020                             IPA Hop Hunter\n",
       "3      10023                         Raw Dark Cacao Bar\n",
       "4      10037          Over Tired and Cranky Bubble Bath"
      ]
     },
     "execution_count": 534,
     "metadata": {},
     "output_type": "execute_result"
    }
   ],
   "source": [
    "Products1.head()"
   ]
  },
  {
   "cell_type": "code",
   "execution_count": 535,
   "metadata": {},
   "outputs": [
    {
     "data": {
      "text/plain": [
       "(6450, 2)"
      ]
     },
     "execution_count": 535,
     "metadata": {},
     "output_type": "execute_result"
    }
   ],
   "source": [
    "Products1.shape"
   ]
  },
  {
   "cell_type": "code",
   "execution_count": 504,
   "metadata": {
    "collapsed": true
   },
   "outputs": [],
   "source": [
    "#''.join([i for i in Products1[3:4].product_name.values[0].replace('%','') if not i.isdigit()]).replace('  ',' ')"
   ]
  },
  {
   "cell_type": "markdown",
   "metadata": {
    "collapsed": true
   },
   "source": [
    "# Wholefoods"
   ]
  },
  {
   "cell_type": "code",
   "execution_count": 505,
   "metadata": {
    "collapsed": true
   },
   "outputs": [],
   "source": [
    "import requests\n",
    "from lxml import html"
   ]
  },
  {
   "cell_type": "code",
   "execution_count": 506,
   "metadata": {
    "collapsed": true
   },
   "outputs": [],
   "source": [
    "session_requests = requests.session()\n",
    "# \"https://delivery.wholefoodsmarket.com/accounts/login/\""
   ]
  },
  {
   "cell_type": "code",
   "execution_count": 507,
   "metadata": {
    "collapsed": true
   },
   "outputs": [],
   "source": [
    "h = { 'Host': 'delivery.wholefoodsmarket.com',\n",
    "'User-Agent': 'Mozilla/5.0 (Windows NT 10.0; Win64; x64; rv:58.0) Gecko/20100101 Firefox/58.0',\n",
    "'Accept': 'text/html,application/xhtml+xml,application/xml;q=0.9,*/*;q=0.8',\n",
    "'Accept-Language': 'en-US,en;q=0.5',\n",
    "'Accept-Encoding': 'gzip, deflate, br',\n",
    "'Cookie': 'optimizelyEndUserId=oeu1519361991187r0.31154355369787334; _vwo_uuid_v2=D7FF65F4FB5C6555AB067B8E342BE6799|740fada84261cda16223cacea0b4b66e; QSI_HistorySession=http%3A%2F%2Fwww.wholefoodsmarket.com%2Fonline-ordering~1519361992784%7Chttp%3A%2F%2Fwww.wholefoodsmarket.com%2F~1519366550023%7Chttps%3A%2F%2Fwww.wholefoodsmarket.com%2Fsite_search%2Feggs~1519366557312%7Chttps%3A%2F%2Fwww.wholefoodsmarket.com%2Fsignin%3Fdestination%3Donline-ordering~1519367060652%7Chttps%3A%2F%2Fwww.wholefoodsmarket.com%2Fregister~1519367133287%7Chttps%3A%2F%2Fwww.wholefoodsmarket.com%2Fsignin%3Fdestination%3Donline-ordering~1519367145006%7Chttp%3A%2F%2Fwww.wholefoodsmarket.com%2Fonline-ordering~1519367147020%7Chttps%3A%2F%2Fwww.wholefoodsmarket.com%2Fstores%2Flist~1519367155724%7Chttps%3A%2F%2Fwww.wholefoodsmarket.com%2Fsignin%3Fdestination%3Dstores%252Flist~1519367167816%7Chttps%3A%2F%2Fwww.wholefoodsmarket.com%2Fstores%2Flist~1519367172035%7Chttps%3A%2F%2Fwww.wholefoodsmarket.com%2Fonline-ordering~1519367175088%7Chttp%3A%2F%2Fwww.wholefoodsmarket.com%2F~1519437106249%7Chttps%3A%2F%2Fwww.wholefoodsmarket.com%2Fsignin%3Fdestination%3D~1519437110220%7Chttp%3A%2F%2Fwww.wholefoodsmarket.com%2F~1519437113961%7Chttp%3A%2F%2Fwww.wholefoodsmarket.com%2Fonline-ordering~1519437118090; build_sha=96d8cd202b14695d271d073b2bc87fce6ebe823d; _instacart_session=SkdCWDVNblg5QkI1dHQycFVNUW1MLzByV1pYNG9jbWVaNXdSaWVoZHE4N21qd0owdmUxT2FvaVZSR09lQW03b3lFS3lSWGdKUFU4RUVmNlZaalk1SlMzcjdEeFlnNXdCQXdvNUlTMElsRWN2ejhMZW9ISzZtYUhoVkZkSWNHYVZjWEI3cHlmNjR2RFVkc0loYWpXUTluRnFVYUJOckI3dmk5dkhXRGhrNHhSMlMzZklYcWdHRmtjRTd0UjFBeFFCYVVDeFd3OEROQVZUS05RT04yUUdnQlJZZHV2T2RWLzBEZlJZdGtJR1BoZFhBSTlRWTA0SmMzMzUzdks4UElhSVV6d0VZQlcyNUVWOTZIQU4xblR5ejBNTzhNbjJvTFRlUVlZYTk4RWQvVjMzZDRkQThCRWpTU3RqTlFaT3hwQ0lqcW5iNFZmMlpvTE8xOUMzcXR4N1ZZV0xSdEQrNmhuSy9MdXZDOEFGdEpLb2JwbkNLTWVha2g1azB4RXg4elFGTGM4aFJUd2lzZGI0cEJkRjF5bWVPdkg0MlJURGFJb3dqVnhnRFJxWkNIQWIvRDJCcmdGNVVvNHZrL0VHdzBSSU1GalhVZVN2SWIyTUM0R3ZodVFGSVNWOGt4MllybzJadWRyOG1ORk1panZKYVE1K3hpelpmTS9HQWxJWFRHaWh0eFF1U2dPWU1BbDJkZWtySldXQWN3PT0tLUJGVjEwak51LzVYU3NRWEZRWllCZFE9PQ%3D%3D--df4231db40fcbad26f794fd5e9c70914a22584c8; ajs_anonymous_id=%22ec1c0440-06d7-454e-8a1e-18654ac86961%22; amplitude_idwholefoodsmarket.com=eyJkZXZpY2VJZCI6IjEwOGZhMDRkLTI1MjMtNDJkOC1iODU2LTBmNmExYTI1MDk1NlIiLCJ1c2VySWQiOiIzMzc3NTU4NyIsIm9wdE91dCI6ZmFsc2UsInNlc3Npb25JZCI6MTUxOTQzNjUxODY1NCwibGFzdEV2ZW50VGltZSI6MTUxOTQzODQ4MDYzMSwiZXZlbnRJZCI6MTExLCJpZGVudGlmeUlkIjoxNCwic2VxdWVuY2VOdW1iZXIiOjEyNX0=; trctestcookie=ok; __stripe_mid=c0ba02c7-84bc-42e9-a447-7f74e5d497ef; __ssid=3d95ba5b-93fb-4bed-9782-b08d03a9af40; landingPageCookie=true; __stripe_sid=7a2e4c3d-6585-4fea-a752-dba44e16fd30; _uetsid=_uet7ea3442b; ahoy_visitor=8448d19c-1f82-486b-8bc2-52032cc0f22c; ahoy_visit=63f75b09-cf1e-41a7-87ec-da9685c9ef0a; ajs_user_id=null; ajs_group_id=null',\n",
    "'Connection': 'keep-alive',\n",
    "'Upgrade-Insecure-Requests': '1',\n",
    "'If-None-Match':'W/\"c044053f92e077e0348c4d4193839a44\"',\n",
    "     'Cache-Control': 'max-age=0'\n",
    "    }"
   ]
  },
  {
   "cell_type": "code",
   "execution_count": 508,
   "metadata": {
    "collapsed": true
   },
   "outputs": [],
   "source": [
    "login_url =\"https://delivery.wholefoodsmarket.com/#login\"\n",
    "result = session_requests.get(login_url, headers=h)\n",
    "tree = result.text\n",
    "#results search xpid: for X-NewRelic-ID:\n",
    "# search csrf-token for X-CSRF-Token"
   ]
  },
  {
   "cell_type": "code",
   "execution_count": 509,
   "metadata": {},
   "outputs": [
    {
     "data": {
      "text/plain": [
       "<Response [200]>"
      ]
     },
     "execution_count": 509,
     "metadata": {},
     "output_type": "execute_result"
    }
   ],
   "source": [
    "result"
   ]
  },
  {
   "cell_type": "code",
   "execution_count": 510,
   "metadata": {},
   "outputs": [
    {
     "data": {
      "text/plain": [
       "'<!DOCTYPE html>\\n<html lang=\\'en\\'>\\n<head>\\n<title>Whole Foods Market® Grocery Delivery</title>\\n<link href=\\'//fonts.googleapis.com/css?family=Open+Sans:300italic,400italic,600italic,700italic,400,300,600,700\\' rel=\\'stylesheet\\' type=\\'text/css\\'>\\n<!--[if lt IE 9]>\\n<script src=\"https://d2guulkeunn7d8.cloudfront.net/javascripts/html5shiv.js\"></script>\\n<link rel=\"stylesheet\" media=\"screen\" href=\"https://d2guulkeunn7d8.cloudfront.net/assets/font-awesome-ie7-6d4afba9ce3ac8cb46c9f3b0303f8dbdec7945e4d297bbe0ee7e6afc5fc0b537.css\" />\\n<![endif]-->\\n<!--[if lte IE 9]>\\n<link rel=\"stylesheet\" media=\"screen\" href=\"https://d2guulkeunn7d8.cloudfront.net/assets/ie8_fixes-4e526ef3b333c8ec46a4d13b1cc9345eacd3b092eca7dc14dd7bb62fa73afc73.css\" />\\n<![endif]-->\\n<link href=\\'/manifest.json\\' rel=\\'manifest\\'>\\n<meta content=\\'Fresh groceries, fast delivery. Get groceries delivered to your door in 1 hour. Your first delivery over $10 is free! Try it today.\\' name=\\'description\\'>\\n<meta content=\\'#43B02A\\' name=\\'theme-color\\'>\\n<met'"
      ]
     },
     "execution_count": 510,
     "metadata": {},
     "output_type": "execute_result"
    }
   ],
   "source": [
    "tree[:1000]"
   ]
  },
  {
   "cell_type": "code",
   "execution_count": 511,
   "metadata": {
    "collapsed": true
   },
   "outputs": [],
   "source": [
    "matchObj = re.search( r'meta name=\"csrf-token\" content=\"(.*?)\"', tree, re.M|re.I)\n",
    "matchObj1 = re.search( r'loader_config={xpid:\"(.*?)\"', tree, re.M|re.I)\n",
    "CSRF_Token =matchObj.group(1)\n",
    "xpid = matchObj1.group(1)"
   ]
  },
  {
   "cell_type": "code",
   "execution_count": 512,
   "metadata": {
    "collapsed": true
   },
   "outputs": [],
   "source": [
    "h2 = { 'Host': 'delivery.wholefoodsmarket.com',\n",
    "'User-Agent': h['User-Agent'],\n",
    "'Accept': 'application/json, text/javascript, */*; q=0.01',\n",
    "'Accept-Language': 'en-US,en;q=0.5',\n",
    "'Accept-Encoding': 'gzip, deflate, br',\n",
    "'X-NewRelic-ID': xpid,\n",
    "'X-CSRF-Token': CSRF_Token,\n",
    "'Content-Type': 'application/x-www-form-urlencoded; charset=UTF-8',\n",
    "'X-Requested-With': 'XMLHttpRequest',\n",
    "'Referer': 'https://delivery.wholefoodsmarket.com/',\n",
    "'Content-Length': '166',\n",
    "'Cookie': h['Cookie'],\n",
    "'Connection': 'keep-alive'\n",
    "    } #update CSRF token"
   ]
  },
  {
   "cell_type": "code",
   "execution_count": 513,
   "metadata": {
    "collapsed": true
   },
   "outputs": [],
   "source": [
    "payload = {\n",
    "    \"user[email]\": \"hvillamil@yahoo.com\", \n",
    "    \"user[password]\": \"DS4YOU!\", \n",
    "    \"authenticity_token\": CSRF_Token\n",
    "}\n",
    "#authenticity_token"
   ]
  },
  {
   "cell_type": "code",
   "execution_count": 514,
   "metadata": {
    "collapsed": true
   },
   "outputs": [],
   "source": [
    "new_login_url = 'https://delivery.wholefoodsmarket.com/accounts/login'"
   ]
  },
  {
   "cell_type": "code",
   "execution_count": 515,
   "metadata": {
    "collapsed": true
   },
   "outputs": [],
   "source": [
    "result = session_requests.post(\n",
    "    new_login_url, \n",
    "    data = payload, \n",
    "    headers = h2\n",
    ")"
   ]
  },
  {
   "cell_type": "code",
   "execution_count": 516,
   "metadata": {},
   "outputs": [
    {
     "data": {
      "text/plain": [
       "<Response [200]>"
      ]
     },
     "execution_count": 516,
     "metadata": {},
     "output_type": "execute_result"
    }
   ],
   "source": [
    "result"
   ]
  },
  {
   "cell_type": "code",
   "execution_count": 517,
   "metadata": {},
   "outputs": [
    {
     "data": {
      "text/plain": [
       "'{\"return_to\":\"/\",\"data\":{\"id\":33775587,\"active\":true,\"email\":\"hvillamil@yahoo.com\",\"phone\":null,\"active_zip_code\":\"10017\",\"share_code\":\"tfour\",\"first_name\":\"Tim\",\"last_name\":\"Four\",\"zip_code\":\"10017\",\"utm_campaign\":\"wholefoodsmarket_onlineordering_cta\",\"source\":\"web\",\"name\":\"Tim Four\",\"became_express_member_on\":null,\"mp_distinct_id\":33775587,\"fb_uid\":null,\"guest\":false,\"zone_id\":null,\"receive_emails\":true,\"unique_id\":null,\"active_zone_id\":27,\"vip\":false,\"terms_read_at\":\"2018-02-24T02:12:16.322Z\",\"orders_count\":0,\"active_address_id\":null,\"avatar_url\":\"\",\"authentication_token\":\"Ez-69riDKx4UEHpvaP1q\",\"max_express_discount\":null,\"express_free_months\":null,\"is_express_member\":false,\"express_trial_eligible?\":true,\"express_extended_trial?\":false,\"express_trial_days\":14,\"has_delivery_coupon?\":false,\"has_devices\":false,\"bootstrap_cart\":{\"id\":12914880,\"token\":\"yhqbj4GR3rGTusPr1ZXp\",\"description\":\"Personal Cart\",\"firebase_url\":\"https://instacart.firebaseio.com/carts/12914880_yhqbj4GR3rGTusPr1ZXp\"'"
      ]
     },
     "execution_count": 517,
     "metadata": {},
     "output_type": "execute_result"
    }
   ],
   "source": [
    "result.text[:1000]"
   ]
  },
  {
   "cell_type": "code",
   "execution_count": 518,
   "metadata": {
    "collapsed": true
   },
   "outputs": [],
   "source": [
    "# #SEARCH\n",
    "# searchthis = \"Beef Hot Links Beef Smoked Sausage With Chile Peppers\" #Products['product_name'][0].lower() #'jelly beans'\n",
    "# search_get = searchthis.replace(' ','%20')\n",
    "# search_ref = searchthis.replace(' ','%20')\n",
    "\n",
    "# #SEARCH HEADERS\n",
    "# h3 = { 'Host': 'delivery.wholefoodsmarket.com',\n",
    "# 'User-Agent': h2['User-Agent'],\n",
    "# 'Accept': 'application/json',\n",
    "# 'Accept-Language': 'en-US,en;q=0.5',\n",
    "# 'Accept-Encoding': 'gzip, deflate, br',\n",
    "# 'x-client-identifier': 'web',\n",
    "# 'Content-Type': 'application/json',\n",
    "# 'X-Requested-With': 'XMLHttpRequest',\n",
    "# 'X-CSRF-Token': CSRF_Token,\n",
    "# 'Origin': 'https://delivery.wholefoodsmarket.com',\n",
    "# 'Referer': 'https://delivery.wholefoodsmarket.com/store/whole-foods/search_v3/'+search_ref,\n",
    "# 'Cookie': 'optimizelyEndUserId=oeu1519361991187r0.31154355369787334; _vwo_uuid_v2=D7FF65F4FB5C6555AB067B8E342BE6799|740fada84261cda16223cacea0b4b66e; QSI_HistorySession=http%3A%2F%2Fwww.wholefoodsmarket.com%2Fonline-ordering~1519361992784%7Chttp%3A%2F%2Fwww.wholefoodsmarket.com%2F~1519366550023%7Chttps%3A%2F%2Fwww.wholefoodsmarket.com%2Fsite_search%2Feggs~1519366557312%7Chttps%3A%2F%2Fwww.wholefoodsmarket.com%2Fsignin%3Fdestination%3Donline-ordering~1519367060652%7Chttps%3A%2F%2Fwww.wholefoodsmarket.com%2Fregister~1519367133287%7Chttps%3A%2F%2Fwww.wholefoodsmarket.com%2Fsignin%3Fdestination%3Donline-ordering~1519367145006%7Chttp%3A%2F%2Fwww.wholefoodsmarket.com%2Fonline-ordering~1519367147020%7Chttps%3A%2F%2Fwww.wholefoodsmarket.com%2Fstores%2Flist~1519367155724%7Chttps%3A%2F%2Fwww.wholefoodsmarket.com%2Fsignin%3Fdestination%3Dstores%252Flist~1519367167816%7Chttps%3A%2F%2Fwww.wholefoodsmarket.com%2Fstores%2Flist~1519367172035%7Chttps%3A%2F%2Fwww.wholefoodsmarket.com%2Fonline-ordering~1519367175088%7Chttp%3A%2F%2Fwww.wholefoodsmarket.com%2F~1519437106249%7Chttps%3A%2F%2Fwww.wholefoodsmarket.com%2Fsignin%3Fdestination%3D~1519437110220%7Chttp%3A%2F%2Fwww.wholefoodsmarket.com%2F~1519437113961%7Chttp%3A%2F%2Fwww.wholefoodsmarket.com%2Fonline-ordering~1519437118090; build_sha=e5766f9fea0e68e70d649c78df23419fd3577893; _instacart_session=eUU1cGU4UVJvZXkvajFNcjEvcVRtUTJXVWtiWFI3bG9qSWs3RCtBWW8rM0wwcjlFRm8yWmlURTVYc2hCQ1I4Qi9KMEprSnp5cnl1Z1dGU3VTdEFsSWNZczI3cnREdVFKdFkxRi9TN2hEVzY2K1pMZHpJUWRoeXR1RzVFcEg2NEloSTYwVld1YjJQcnQ4dWpJeEdqRnJCNlVQNTJ2bzhvanVGSkJhQXVyUjd6MHB0QlBvekhJSzNLZ2k2SlFsa1VsblI4U3VXYW12eUNHYXlwcVIwVkNrOU5PdnpzVDlZdVJtWnU5VEZZQXlXejFOcC80S0lhVmpLenJTS3IrbWZuTlpSTTVlMTF4bW5ZdEljRFV2ZC80YUZQV1pFYU1TTUpUTmFsT0kreHU3TWtrbU9OcS9raVlQanA4R3o3QmhkWWx2bk1LR3NIOEN0WEdxRHpsV0xHV1hxWmpVWXFGdnBnTGtOU1hlZFhSUG1lNldveUI1SndiM3FpVU5XdVRpUjgya21LWFFCbWRDRmVaQmhmWkJxVFhBRkJSSXlaNS9zekR0UnRPUzNWdkp3ZFhlWkE4VTNwTUVGM3d6ZnVzeWs4ckV5b3ZndjQrdmFES29hTHY3NnB3bHB0Y2c3UTRlWGVmeU1xamRpSjJRa1JSekl3VjRxOExpQ0pqMmlRREcvbysyOTJVcy9ka1U1blZ4WmdYb0RaTE1nPT0tLVd5Zk9oL2dBOThVME1DVU1FTm9xL0E9PQ%3D%3D--f9cc72ccc4547c6c9a4e20cbf549e237a4377168; ajs_anonymous_id=%22ec1c0440-06d7-454e-8a1e-18654ac86961%22; amplitude_idwholefoodsmarket.com=eyJkZXZpY2VJZCI6IjEwOGZhMDRkLTI1MjMtNDJkOC1iODU2LTBmNmExYTI1MDk1NlIiLCJ1c2VySWQiOiIzMzc3NTU4NyIsIm9wdE91dCI6ZmFsc2UsInNlc3Npb25JZCI6MTUxOTQ0MDQ0OTIxOSwibGFzdEV2ZW50VGltZSI6MTUxOTQ0MDQ4NTY3NiwiZXZlbnRJZCI6MTI2LCJpZGVudGlmeUlkIjoxNywic2VxdWVuY2VOdW1iZXIiOjE0M30=; trctestcookie=ok; __stripe_mid=c0ba02c7-84bc-42e9-a447-7f74e5d497ef; __ssid=3d95ba5b-93fb-4bed-9782-b08d03a9af40; landingPageCookie=true; ahoy_visitor=8448d19c-1f82-486b-8bc2-52032cc0f22c; ahoy_visit=63f75b09-cf1e-41a7-87ec-da9685c9ef0a; ajs_user_id=33775587; ajs_group_id=null; remember_user_token=W1szMzc3NTU4N10sIiQyYSQxMCRKa3lsb3dzZDJvMGtNSXRjMHR4WGJPIiwiMTUxOTQ0MDQ0Ni45MTQ4ODQ4Il0%3D--7c69102ec21c8d4a3eeeaaad4fad45fc4b0d223c; __stripe_sid=367ab0f5-40eb-43d0-8106-0d44175ed135',\n",
    "# 'DNT' : '1',\n",
    "# 'Connection': 'keep-alive'\n",
    "#     }\n",
    "# #CHANGE COOKIE. grab from actual search. In headers\n",
    "\n",
    "# #SEARCH\n",
    "# #https://delivery.wholefoodsmarket.com/store/whole-foods/search_v3/cookies\n",
    "# #url = 'https://delivery.wholefoodsmarket.com/store/whole-foods/search_v3/mangos'\n",
    "# url = 'https://delivery.wholefoodsmarket.com/v3/containers/whole-foods/search_v3/'+search_get+\\\n",
    "# '?cache_key=3c4c54-76-f-bf1&per=60&tracking.items_per_row=6&tracking.source_url=whole-foods%2'+\\\n",
    "# 'Fstorefront%3Futm_source%3Dpartner_wholefoodsmarket.com%26utm_medium%3Dreferral%26utm_campaign%3'+\\\n",
    "# 'Dwholefoodsmarket_onlineordering_cta&tracking.autocomplete_prefix=&tracking.autocomplete_term_'+\\\n",
    "# 'impression_id=&tracking.search_bar_impression_event_id=&tracking.autocomplete_selected_position=-1'\n",
    "\n",
    "# result = session_requests.get(\n",
    "#     url, \n",
    "#     headers = h3\n",
    "# )\n",
    "\n",
    "# #PARAMETERS FOR QUERY STRING\n",
    "# # cache_key=3c4c54-76-f-bf1\n",
    "# # normalized_term=hot+sauce\n",
    "# # per=60\n",
    "# # tracking.autocomplete_prefix=\n",
    "# # tracking.autocomplete_selected_position=-1\n",
    "# # tracking.autocomplete_term_impression_id=\n",
    "# # tracking.items_per_row=6\n",
    "# # tracking.search_bar_impression_event_id=\n",
    "# # tracking.source_url=\n",
    "# # cache_key=3c4c54-76-f-bf1\n",
    "# # request_timestamp=1519413349644"
   ]
  },
  {
   "cell_type": "code",
   "execution_count": 519,
   "metadata": {
    "collapsed": true
   },
   "outputs": [],
   "source": [
    "# result.ok #result.status_code"
   ]
  },
  {
   "cell_type": "code",
   "execution_count": 520,
   "metadata": {
    "collapsed": true
   },
   "outputs": [],
   "source": [
    "# print(result)"
   ]
  },
  {
   "cell_type": "code",
   "execution_count": 521,
   "metadata": {
    "collapsed": true
   },
   "outputs": [],
   "source": [
    "#result.text[:1000]"
   ]
  },
  {
   "cell_type": "code",
   "execution_count": 522,
   "metadata": {
    "collapsed": true
   },
   "outputs": [],
   "source": [
    "# seResults = result.text\n",
    "# print('\"items\":[' in seResults)\n",
    "# v = seResults.split('\"items\":[')\n",
    "# vv = v[1].split(',{\"id\":')\n",
    "# # for c,d in enumerate(vv):\n",
    "# #     if '\"name\"' in d:\n",
    "# #         #print(d)\n",
    "# #         print(re.search( r'\"name\":\"(.*?)\"', d, re.M|re.I).group(1))\n",
    "# #         print(re.search( r'\"price\":\"(.*?)[\"|,]', d, re.M|re.I).group(1)) \n",
    "# #         print(re.search( r'\"full_price\":[\"|n](.*?)[\"|,]', d, re.M|re.I).group(1))                \n",
    "# #         #print(re.search( r'\"price\":(.*?)', d, re.M|re.I).group(1)) \n",
    "# #        # print(re.search( r'\"pricing\":{(.*?)}', d, re.M|re.I).group(1))\n",
    "# Output = {}\n",
    "# for c,d in enumerate(vv):\n",
    "#     if '\"pricing\"' in d:\n",
    "#         if '\"name\"' in d:\n",
    "#             print(re.search( r'\"name\":\"(.*?)\"', d, re.M|re.I).group(1)) \n",
    "#             #print(re.search( r'\"full_price\":[\"|n](.*?)[\"|,]', d, re.M|re.I).group(1))\n",
    "#             if not re.search( r'\"price\":\"(.*?)\"', d, re.M|re.I):\n",
    "#                 price = None\n",
    "#             else:\n",
    "#                 print(re.search( r'\"price\":\"(.*?)[\"|,]', d, re.M|re.I).group(1))\n",
    "#                 price = re.search( r'\"price\":\"(.*?)\"', d, re.M|re.I).group(1).replace(\"$\",'')\n",
    "#             Output[re.search( r'\"name\":\"(.*?)\"', d.replace(\"'\",\"\"), re.M|re.I).group(1).replace(\"'\",'')] = price\n",
    "# Output"
   ]
  },
  {
   "cell_type": "code",
   "execution_count": 526,
   "metadata": {
    "collapsed": true
   },
   "outputs": [],
   "source": [
    "import string\n",
    "#''.join(filter(lambda x: x in string.printable, d ))"
   ]
  },
  {
   "cell_type": "code",
   "execution_count": 523,
   "metadata": {
    "collapsed": true
   },
   "outputs": [],
   "source": [
    "def SEARCH_Price(WORDINPUTFROMFUNCTION):\n",
    "    #CHANGE cookie from actual search_ may not need to anymore\n",
    "    normalize = ''.join(filter(lambda x: x in string.printable, WORDINPUTFROMFUNCTION.lower().replace(\"'\",'').replace(\"\\\\\",'').replace(\"/\",'').replace(\"-\",'') ))\n",
    "    searchthis = normalize #'jelly beans'\n",
    "    search_get = searchthis.replace(' ','%20')\n",
    "    search_ref = searchthis.replace(' ','%20')\n",
    "    #SEARCH HEADERS\n",
    "    h3 = { 'Host': 'delivery.wholefoodsmarket.com',\n",
    "    'User-Agent': h2['User-Agent'],\n",
    "    'Accept': 'application/json',\n",
    "    'Accept-Language': 'en-US,en;q=0.5',\n",
    "    'Accept-Encoding': 'gzip, deflate, br',\n",
    "    'x-client-identifier': 'web',\n",
    "    'Content-Type': 'application/json',\n",
    "    'X-Requested-With': 'XMLHttpRequest',\n",
    "    'X-CSRF-Token': CSRF_Token,\n",
    "    'Origin': 'https://delivery.wholefoodsmarket.com',\n",
    "    'Referer': 'https://delivery.wholefoodsmarket.com/store/whole-foods/search_v3/'+search_ref,\n",
    "    'Cookie': 'optimizelyEndUserId=oeu1519361991187r0.31154355369787334; _vwo_uuid_v2=D7FF65F4FB5C6555AB067B8E342BE6799|740fada84261cda16223cacea0b4b66e; QSI_HistorySession=http%3A%2F%2Fwww.wholefoodsmarket.com%2Fonline-ordering~1519361992784%7Chttp%3A%2F%2Fwww.wholefoodsmarket.com%2F~1519366550023%7Chttps%3A%2F%2Fwww.wholefoodsmarket.com%2Fsite_search%2Feggs~1519366557312%7Chttps%3A%2F%2Fwww.wholefoodsmarket.com%2Fsignin%3Fdestination%3Donline-ordering~1519367060652%7Chttps%3A%2F%2Fwww.wholefoodsmarket.com%2Fregister~1519367133287%7Chttps%3A%2F%2Fwww.wholefoodsmarket.com%2Fsignin%3Fdestination%3Donline-ordering~1519367145006%7Chttp%3A%2F%2Fwww.wholefoodsmarket.com%2Fonline-ordering~1519367147020%7Chttps%3A%2F%2Fwww.wholefoodsmarket.com%2Fstores%2Flist~1519367155724%7Chttps%3A%2F%2Fwww.wholefoodsmarket.com%2Fsignin%3Fdestination%3Dstores%252Flist~1519367167816%7Chttps%3A%2F%2Fwww.wholefoodsmarket.com%2Fstores%2Flist~1519367172035%7Chttps%3A%2F%2Fwww.wholefoodsmarket.com%2Fonline-ordering~1519367175088%7Chttp%3A%2F%2Fwww.wholefoodsmarket.com%2F~1519437106249%7Chttps%3A%2F%2Fwww.wholefoodsmarket.com%2Fsignin%3Fdestination%3D~1519437110220%7Chttp%3A%2F%2Fwww.wholefoodsmarket.com%2F~1519437113961%7Chttp%3A%2F%2Fwww.wholefoodsmarket.com%2Fonline-ordering~1519437118090; build_sha=e5766f9fea0e68e70d649c78df23419fd3577893; _instacart_session=eUU1cGU4UVJvZXkvajFNcjEvcVRtUTJXVWtiWFI3bG9qSWs3RCtBWW8rM0wwcjlFRm8yWmlURTVYc2hCQ1I4Qi9KMEprSnp5cnl1Z1dGU3VTdEFsSWNZczI3cnREdVFKdFkxRi9TN2hEVzY2K1pMZHpJUWRoeXR1RzVFcEg2NEloSTYwVld1YjJQcnQ4dWpJeEdqRnJCNlVQNTJ2bzhvanVGSkJhQXVyUjd6MHB0QlBvekhJSzNLZ2k2SlFsa1VsblI4U3VXYW12eUNHYXlwcVIwVkNrOU5PdnpzVDlZdVJtWnU5VEZZQXlXejFOcC80S0lhVmpLenJTS3IrbWZuTlpSTTVlMTF4bW5ZdEljRFV2ZC80YUZQV1pFYU1TTUpUTmFsT0kreHU3TWtrbU9OcS9raVlQanA4R3o3QmhkWWx2bk1LR3NIOEN0WEdxRHpsV0xHV1hxWmpVWXFGdnBnTGtOU1hlZFhSUG1lNldveUI1SndiM3FpVU5XdVRpUjgya21LWFFCbWRDRmVaQmhmWkJxVFhBRkJSSXlaNS9zekR0UnRPUzNWdkp3ZFhlWkE4VTNwTUVGM3d6ZnVzeWs4ckV5b3ZndjQrdmFES29hTHY3NnB3bHB0Y2c3UTRlWGVmeU1xamRpSjJRa1JSekl3VjRxOExpQ0pqMmlRREcvbysyOTJVcy9ka1U1blZ4WmdYb0RaTE1nPT0tLVd5Zk9oL2dBOThVME1DVU1FTm9xL0E9PQ%3D%3D--f9cc72ccc4547c6c9a4e20cbf549e237a4377168; ajs_anonymous_id=%22ec1c0440-06d7-454e-8a1e-18654ac86961%22; amplitude_idwholefoodsmarket.com=eyJkZXZpY2VJZCI6IjEwOGZhMDRkLTI1MjMtNDJkOC1iODU2LTBmNmExYTI1MDk1NlIiLCJ1c2VySWQiOiIzMzc3NTU4NyIsIm9wdE91dCI6ZmFsc2UsInNlc3Npb25JZCI6MTUxOTQ0MDQ0OTIxOSwibGFzdEV2ZW50VGltZSI6MTUxOTQ0MDQ4NTY3NiwiZXZlbnRJZCI6MTI2LCJpZGVudGlmeUlkIjoxNywic2VxdWVuY2VOdW1iZXIiOjE0M30=; trctestcookie=ok; __stripe_mid=c0ba02c7-84bc-42e9-a447-7f74e5d497ef; __ssid=3d95ba5b-93fb-4bed-9782-b08d03a9af40; landingPageCookie=true; ahoy_visitor=8448d19c-1f82-486b-8bc2-52032cc0f22c; ahoy_visit=63f75b09-cf1e-41a7-87ec-da9685c9ef0a; ajs_user_id=33775587; ajs_group_id=null; remember_user_token=W1szMzc3NTU4N10sIiQyYSQxMCRKa3lsb3dzZDJvMGtNSXRjMHR4WGJPIiwiMTUxOTQ0MDQ0Ni45MTQ4ODQ4Il0%3D--7c69102ec21c8d4a3eeeaaad4fad45fc4b0d223c; __stripe_sid=367ab0f5-40eb-43d0-8106-0d44175ed135',\n",
    "    'DNT' : '1',\n",
    "    'Connection': 'keep-alive'\n",
    "        }\n",
    "    #CHANGE COOKIE. grab from actual search. In headers\n",
    "\n",
    "    #SEARCH\n",
    "    url = 'https://delivery.wholefoodsmarket.com/v3/containers/whole-foods/search_v3/'+search_get+\\\n",
    "    '?cache_key=3c4c54-76-f-bf1&per=60&tracking.items_per_row=6&tracking.source_url=whole-foods%2'+\\\n",
    "    'Fstorefront%3Futm_source%3Dpartner_wholefoodsmarket.com%26utm_medium%3Dreferral%26utm_campaign%3'+\\\n",
    "    'Dwholefoodsmarket_onlineordering_cta&tracking.autocomplete_prefix=&tracking.autocomplete_term_'+\\\n",
    "    'impression_id=&tracking.search_bar_impression_event_id=&tracking.autocomplete_selected_position=-1'\n",
    "\n",
    "    result = session_requests.get(\n",
    "        url, \n",
    "        headers = h3\n",
    "    )\n",
    "    seResults = result.text\n",
    "    #print(seResults)\n",
    "    if '\"items\":[' not in seResults:\n",
    "        return None\n",
    "    else:\n",
    "        #print(seResults.split('\"items\":[')[1].split('{\"id\":'))\n",
    "        #print(seResults)\n",
    "        Output = {}\n",
    "        v = seResults.split('\"items\":[')\n",
    "        vv = v[1].split(',{\"id\":')\n",
    "        #return vv, v\n",
    "        for c,d in enumerate(vv):\n",
    "            if '\"pricing\"' in d:\n",
    "                if '\"name\"' in d:\n",
    "                    #print(d)\n",
    "                    #print(re.search( r'\"name\":\"(.*?)\"', d, re.M|re.I).group(1).replace(\"'\",''))\n",
    "                    if not re.search( r'\"price\":\"(.*?)\"', d, re.M|re.I):\n",
    "                        price = None\n",
    "                    else:\n",
    "                        price = re.search( r'\"price\":\"(.*?)\"', d, re.M|re.I).group(1).replace(\"$\",'')\n",
    "                    Output[re.search( r'\"name\":\"(.*?)\"', d.replace(\"'\",\"\"), re.M|re.I).group(1).replace(\"'\",'')] = price\n",
    "                        #re.search( r'\"price\":\"(.*?)\"', d, re.M|re.I).group(1).replace(\"$\",'')]\n",
    "                        #,str(re.search( r'\"full_price\":(.*?),', d, re.M|re.I).group(1)).replace(\"null\",'0')\n",
    "                #]\n",
    "        return Output\n",
    "                #print(re.search( r'\"name\":\"(.*?)\"', d, re.M|re.I).group(1))\n",
    "                #print(re.search( r'\"price\":\"(.*?)[\"|,]', d, re.M|re.I).group(1)) \n",
    "                #print(re.search( r'\"full_price\":[\"|n](.*?)[\"|,]', d, re.M|re.I).group(1))                \n",
    "                #print(re.search( r'\"price\":(.*?)', d, re.M|re.I).group(1)) \n",
    "               # print(re.search( r'\"pricing\":{(.*?)}', d, re.M|re.I).group(1))        "
   ]
  },
  {
   "cell_type": "code",
   "execution_count": 524,
   "metadata": {
    "collapsed": true
   },
   "outputs": [],
   "source": [
    "# m = SEARCH_Price(Products.product_name[0])\n",
    "# m"
   ]
  },
  {
   "cell_type": "code",
   "execution_count": 525,
   "metadata": {},
   "outputs": [
    {
     "data": {
      "text/plain": [
       "(6502, 2)"
      ]
     },
     "execution_count": 525,
     "metadata": {},
     "output_type": "execute_result"
    }
   ],
   "source": [
    "Products1.shape#.product_name 47950"
   ]
  },
  {
   "cell_type": "code",
   "execution_count": 536,
   "metadata": {},
   "outputs": [
    {
     "data": {
      "text/plain": [
       "(6450, 2)"
      ]
     },
     "execution_count": 536,
     "metadata": {},
     "output_type": "execute_result"
    }
   ],
   "source": [
    "Products1.shape#.product_name 47950"
   ]
  },
  {
   "cell_type": "code",
   "execution_count": 527,
   "metadata": {
    "collapsed": true,
    "scrolled": true
   },
   "outputs": [],
   "source": [
    "# NEXT when you come back [24000:26000]\n",
    "for index, row in Products[4000:6502].iterrows():\n",
    "    prices = SEARCH_Price(row['product_name'])\n",
    "    if prices:\n",
    "        for c,v in prices.items():\n",
    "            #print(\"\"\"INSERT INTO prices(product_id,Name,price) Values({},{},{})\n",
    "            #  \"\"\".format(row['product_id'],c[:255].replace(\"'\",'').replace(\",\",''),v) )\n",
    "            cursor.execute(\"\"\"INSERT INTO prices Values(?,?,NULLIF(?,'None'))\n",
    "              \"\"\",(row['product_id'],''.join(filter(lambda x: x in string.printable, c[:255].replace(\"'\",'').replace(\",\",'') )),v) )\n",
    "    cnxn.commit()\n",
    "    \n",
    "    #cursor.execute(\"INSERT INTO table VALUES (?, ?, ?)\", (var1, var2, var3))"
   ]
  },
  {
   "cell_type": "code",
   "execution_count": 313,
   "metadata": {
    "collapsed": true
   },
   "outputs": [],
   "source": [
    "#http://kazuar.github.io/scraping-tutorial/"
   ]
  },
  {
   "cell_type": "code",
   "execution_count": 314,
   "metadata": {
    "collapsed": true
   },
   "outputs": [],
   "source": [
    "# pull ,\"show_more_navigation\":{\"label\":\"More in Baby Food\" for better matches based on similar department and aisles"
   ]
  },
  {
   "cell_type": "code",
   "execution_count": 315,
   "metadata": {
    "collapsed": true
   },
   "outputs": [],
   "source": [
    "# h = { 'Host': 'delivery.wholefoodsmarket.com',\n",
    "# 'User-Agent': 'Mozilla/5.0 (Windows NT 10.0; Win64; x64; rv:58.0) Gecko/20100101 Firefox/58.0',\n",
    "# 'Accept': 'text/html,application/xhtml+xml,application/xml;q=0.9,*/*;q=0.8',\n",
    "# 'Accept-Language': 'en-US,en;q=0.5',\n",
    "# 'Accept-Encoding': 'gzip, deflate, br',\n",
    "# 'Cookie': 'optimizelyEndUserId=oeu1519361991187r0.31154355369787334; _vwo_uuid_v2=D7FF65F4FB5C6555AB067B8E342BE6799|740fada84261cda16223cacea0b4b66e; QSI_HistorySession=http%3A%2F%2Fwww.wholefoodsmarket.com%2Fonline-ordering~1519361992784%7Chttp%3A%2F%2Fwww.wholefoodsmarket.com%2F~1519366550023%7Chttps%3A%2F%2Fwww.wholefoodsmarket.com%2Fsite_search%2Feggs~1519366557312%7Chttps%3A%2F%2Fwww.wholefoodsmarket.com%2Fsignin%3Fdestination%3Donline-ordering~1519367060652%7Chttps%3A%2F%2Fwww.wholefoodsmarket.com%2Fregister~1519367133287%7Chttps%3A%2F%2Fwww.wholefoodsmarket.com%2Fsignin%3Fdestination%3Donline-ordering~1519367145006%7Chttp%3A%2F%2Fwww.wholefoodsmarket.com%2Fonline-ordering~1519367147020%7Chttps%3A%2F%2Fwww.wholefoodsmarket.com%2Fstores%2Flist~1519367155724%7Chttps%3A%2F%2Fwww.wholefoodsmarket.com%2Fsignin%3Fdestination%3Dstores%252Flist~1519367167816%7Chttps%3A%2F%2Fwww.wholefoodsmarket.com%2Fstores%2Flist~1519367172035%7Chttps%3A%2F%2Fwww.wholefoodsmarket.com%2Fonline-ordering~1519367175088%7Chttp%3A%2F%2Fwww.wholefoodsmarket.com%2F~1519437106249%7Chttps%3A%2F%2Fwww.wholefoodsmarket.com%2Fsignin%3Fdestination%3D~1519437110220%7Chttp%3A%2F%2Fwww.wholefoodsmarket.com%2F~1519437113961%7Chttp%3A%2F%2Fwww.wholefoodsmarket.com%2Fonline-ordering~1519437118090; build_sha=96d8cd202b14695d271d073b2bc87fce6ebe823d; _instacart_session=SkdCWDVNblg5QkI1dHQycFVNUW1MLzByV1pYNG9jbWVaNXdSaWVoZHE4N21qd0owdmUxT2FvaVZSR09lQW03b3lFS3lSWGdKUFU4RUVmNlZaalk1SlMzcjdEeFlnNXdCQXdvNUlTMElsRWN2ejhMZW9ISzZtYUhoVkZkSWNHYVZjWEI3cHlmNjR2RFVkc0loYWpXUTluRnFVYUJOckI3dmk5dkhXRGhrNHhSMlMzZklYcWdHRmtjRTd0UjFBeFFCYVVDeFd3OEROQVZUS05RT04yUUdnQlJZZHV2T2RWLzBEZlJZdGtJR1BoZFhBSTlRWTA0SmMzMzUzdks4UElhSVV6d0VZQlcyNUVWOTZIQU4xblR5ejBNTzhNbjJvTFRlUVlZYTk4RWQvVjMzZDRkQThCRWpTU3RqTlFaT3hwQ0lqcW5iNFZmMlpvTE8xOUMzcXR4N1ZZV0xSdEQrNmhuSy9MdXZDOEFGdEpLb2JwbkNLTWVha2g1azB4RXg4elFGTGM4aFJUd2lzZGI0cEJkRjF5bWVPdkg0MlJURGFJb3dqVnhnRFJxWkNIQWIvRDJCcmdGNVVvNHZrL0VHdzBSSU1GalhVZVN2SWIyTUM0R3ZodVFGSVNWOGt4MllybzJadWRyOG1ORk1panZKYVE1K3hpelpmTS9HQWxJWFRHaWh0eFF1U2dPWU1BbDJkZWtySldXQWN3PT0tLUJGVjEwak51LzVYU3NRWEZRWllCZFE9PQ%3D%3D--df4231db40fcbad26f794fd5e9c70914a22584c8; ajs_anonymous_id=%22ec1c0440-06d7-454e-8a1e-18654ac86961%22; amplitude_idwholefoodsmarket.com=eyJkZXZpY2VJZCI6IjEwOGZhMDRkLTI1MjMtNDJkOC1iODU2LTBmNmExYTI1MDk1NlIiLCJ1c2VySWQiOiIzMzc3NTU4NyIsIm9wdE91dCI6ZmFsc2UsInNlc3Npb25JZCI6MTUxOTQzNjUxODY1NCwibGFzdEV2ZW50VGltZSI6MTUxOTQzODQ4MDYzMSwiZXZlbnRJZCI6MTExLCJpZGVudGlmeUlkIjoxNCwic2VxdWVuY2VOdW1iZXIiOjEyNX0=; trctestcookie=ok; __stripe_mid=c0ba02c7-84bc-42e9-a447-7f74e5d497ef; __ssid=3d95ba5b-93fb-4bed-9782-b08d03a9af40; landingPageCookie=true; __stripe_sid=7a2e4c3d-6585-4fea-a752-dba44e16fd30; _uetsid=_uet7ea3442b; ahoy_visitor=8448d19c-1f82-486b-8bc2-52032cc0f22c; ahoy_visit=63f75b09-cf1e-41a7-87ec-da9685c9ef0a; ajs_user_id=null; ajs_group_id=null',\n",
    "# 'Connection': 'keep-alive',\n",
    "# 'Upgrade-Insecure-Requests': '1',\n",
    "# 'If-None-Match':'W/\"c044053f92e077e0348c4d4193839a44\"',\n",
    "#      'Cache-Control': 'max-age=0'\n",
    "#     }\n",
    "# login_url =\"https://delivery.wholefoodsmarket.com/#login\"\n",
    "# result = session_requests.get(login_url, headers=h)\n",
    "# tree = result.text\n",
    "# matchObj = re.search( r'meta name=\"csrf-token\" content=\"(.*?)\"', tree, re.M|re.I)\n",
    "# matchObj1 = re.search( r'loader_config={xpid:\"(.*?)\"', tree, re.M|re.I)\n",
    "# CSRF_Token =matchObj.group(1)\n",
    "# xpid = matchObj1.group(1)\n",
    "# #at this point have the new csfr token from the login page. NEXT is Login.\n",
    "\n",
    "# h2 = { 'Host': 'delivery.wholefoodsmarket.com',\n",
    "# 'User-Agent': h['User-Agent'],\n",
    "# 'Accept': 'application/json, text/javascript, */*; q=0.01',\n",
    "# 'Accept-Language': 'en-US,en;q=0.5',\n",
    "# 'Accept-Encoding': 'gzip, deflate, br',\n",
    "# 'X-NewRelic-ID': xpid,\n",
    "# 'X-CSRF-Token': CSRF_Token,\n",
    "# 'Content-Type': 'application/x-www-form-urlencoded; charset=UTF-8',\n",
    "# 'X-Requested-With': 'XMLHttpRequest',\n",
    "# 'Referer': 'https://delivery.wholefoodsmarket.com/',\n",
    "# 'Content-Length': '166',\n",
    "# 'Cookie': h['Cookie'],\n",
    "# 'Connection': 'keep-alive'\n",
    "#     } #update CSRF token\n",
    "# payload = {\n",
    "#     \"user[email]\": \"hvillamil@yahoo.com\", \n",
    "#     \"user[password]\": \"DS4YOU!\", \n",
    "#     \"authenticity_token\": CSRF_Token\n",
    "# }\n",
    "# #authenticity_token\n",
    "# new_login_url = 'https://delivery.wholefoodsmarket.com/accounts/login'\n",
    "# result = session_requests.post(\n",
    "#     new_login_url, \n",
    "#     data = payload, \n",
    "#     headers = h2\n",
    "# )\n",
    "# # We now logged in!"
   ]
  },
  {
   "cell_type": "code",
   "execution_count": null,
   "metadata": {
    "collapsed": true
   },
   "outputs": [],
   "source": []
  }
 ],
 "metadata": {
  "kernelspec": {
   "display_name": "Python [default]",
   "language": "python",
   "name": "python3"
  },
  "language_info": {
   "codemirror_mode": {
    "name": "ipython",
    "version": 3
   },
   "file_extension": ".py",
   "mimetype": "text/x-python",
   "name": "python",
   "nbconvert_exporter": "python",
   "pygments_lexer": "ipython3",
   "version": "3.5.4"
  }
 },
 "nbformat": 4,
 "nbformat_minor": 2
}
