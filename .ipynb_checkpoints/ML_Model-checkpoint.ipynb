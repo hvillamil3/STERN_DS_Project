{
 "cells": [
  {
   "cell_type": "code",
   "execution_count": 1,
   "metadata": {
    "collapsed": true
   },
   "outputs": [],
   "source": [
    "from sklearn.preprocessing import StandardScaler\n",
    "from sklearn.ensemble import RandomForestClassifier\n",
    "from sklearn.tree import DecisionTreeClassifier\n",
    "from sklearn.linear_model import LogisticRegression\n",
    "from sklearn.model_selection import GridSearchCV\n",
    "from sklearn.model_selection import cross_val_score\n",
    "from sklearn import metrics\n",
    "from sklearn.linear_model import SGDClassifier"
   ]
  },
  {
   "cell_type": "code",
   "execution_count": 2,
   "metadata": {
    "collapsed": true
   },
   "outputs": [],
   "source": [
    "from sklearn.preprocessing import OneHotEncoder\n",
    "from sklearn.preprocessing import LabelBinarizer\n",
    "from sklearn.preprocessing import LabelEncoder"
   ]
  },
  {
   "cell_type": "code",
   "execution_count": 3,
   "metadata": {
    "collapsed": true
   },
   "outputs": [],
   "source": [
    "import pandas as pd\n",
    "import pyodbc\n",
    "import numpy as np\n",
    "from matplotlib import pyplot as plt\n",
    "%matplotlib inline"
   ]
  },
  {
   "cell_type": "code",
   "execution_count": 56,
   "metadata": {
    "collapsed": true
   },
   "outputs": [],
   "source": [
    "\n",
    "driver= '{ODBC Driver 13 for SQL Server}'\n",
    "cnxn = pyodbc.connect('DRIVER='+driver+';PORT=1433;SERVER='+\\\n",
    "                      server+';PORT=1443;DATABASE='+database+';UID='+username+';PWD='+ password)\n",
    "#cursor = cnxn.cursor()"
   ]
  },
  {
   "cell_type": "code",
   "execution_count": 5,
   "metadata": {
    "collapsed": true
   },
   "outputs": [],
   "source": [
    "data = pd.read_sql_query(\"\"\"\n",
    "SELECT [user_id]\n",
    ", a.product_id\n",
    ", add_to_cart_order,order_dow\n",
    ", order_hour_of_day\n",
    ", convert(float,days_since_prior_order) as days_since_prior_order\n",
    ", department, aisle,reordered\n",
    "FROM [dbo].[order_products__prior] a (nolock)\n",
    "left join dbo.orders b (nolock) on a.[order_id]=b.[order_id]\n",
    "left join dbo.[products] c (nolock) on a.product_id = c.product_id\n",
    "left join dbo.[departments] d (nolock) on c.department_id=d.department_id\n",
    "left join dbo.[aisles] e (nolock) on c.aisle_id = e.aisle_id\n",
    "\"\"\",cnxn, coerce_float = True)\n",
    "data['target'] = data.reordered.astype(int)"
   ]
  },
  {
   "cell_type": "code",
   "execution_count": 6,
   "metadata": {
    "collapsed": true
   },
   "outputs": [],
   "source": [
    "data['add_to_cart_order'] = data.add_to_cart_order.astype(int)\n",
    "data['order_dow'] = data.order_dow.astype(int)\n",
    "data['order_hour_of_day'] = data.order_hour_of_day.astype(int)\n",
    "data['days_since_prior_order'] = data.days_since_prior_order.astype(int)\n",
    "data['product_id'] = data.product_id.astype(int)"
   ]
  },
  {
   "cell_type": "code",
   "execution_count": 7,
   "metadata": {
    "collapsed": true
   },
   "outputs": [],
   "source": [
    "del data['reordered']"
   ]
  },
  {
   "cell_type": "code",
   "execution_count": 8,
   "metadata": {},
   "outputs": [
    {
     "name": "stdout",
     "output_type": "stream",
     "text": [
      "<class 'pandas.core.frame.DataFrame'>\n",
      "RangeIndex: 32434489 entries, 0 to 32434488\n",
      "Data columns (total 9 columns):\n",
      "user_id                   object\n",
      "product_id                int32\n",
      "add_to_cart_order         int32\n",
      "order_dow                 int32\n",
      "order_hour_of_day         int32\n",
      "days_since_prior_order    int32\n",
      "department                object\n",
      "aisle                     object\n",
      "target                    int32\n",
      "dtypes: int32(6), object(3)\n",
      "memory usage: 1.4+ GB\n"
     ]
    }
   ],
   "source": [
    "data.info()"
   ]
  },
  {
   "cell_type": "code",
   "execution_count": 9,
   "metadata": {},
   "outputs": [
    {
     "data": {
      "text/plain": [
       "(32434489, 9)"
      ]
     },
     "execution_count": 9,
     "metadata": {},
     "output_type": "execute_result"
    }
   ],
   "source": [
    "data.shape"
   ]
  },
  {
   "cell_type": "code",
   "execution_count": 10,
   "metadata": {},
   "outputs": [
    {
     "data": {
      "text/html": [
       "<div>\n",
       "<style scoped>\n",
       "    .dataframe tbody tr th:only-of-type {\n",
       "        vertical-align: middle;\n",
       "    }\n",
       "\n",
       "    .dataframe tbody tr th {\n",
       "        vertical-align: top;\n",
       "    }\n",
       "\n",
       "    .dataframe thead th {\n",
       "        text-align: right;\n",
       "    }\n",
       "</style>\n",
       "<table border=\"1\" class=\"dataframe\">\n",
       "  <thead>\n",
       "    <tr style=\"text-align: right;\">\n",
       "      <th></th>\n",
       "      <th>user_id</th>\n",
       "      <th>product_id</th>\n",
       "      <th>add_to_cart_order</th>\n",
       "      <th>order_dow</th>\n",
       "      <th>order_hour_of_day</th>\n",
       "      <th>days_since_prior_order</th>\n",
       "      <th>department</th>\n",
       "      <th>aisle</th>\n",
       "      <th>target</th>\n",
       "    </tr>\n",
       "  </thead>\n",
       "  <tbody>\n",
       "    <tr>\n",
       "      <th>0</th>\n",
       "      <td>193700</td>\n",
       "      <td>32747</td>\n",
       "      <td>1</td>\n",
       "      <td>6</td>\n",
       "      <td>16</td>\n",
       "      <td>6</td>\n",
       "      <td>dairy eggs</td>\n",
       "      <td>milk</td>\n",
       "      <td>1</td>\n",
       "    </tr>\n",
       "    <tr>\n",
       "      <th>1</th>\n",
       "      <td>193700</td>\n",
       "      <td>19508</td>\n",
       "      <td>2</td>\n",
       "      <td>6</td>\n",
       "      <td>16</td>\n",
       "      <td>6</td>\n",
       "      <td>bakery</td>\n",
       "      <td>tortillas flat bread</td>\n",
       "      <td>0</td>\n",
       "    </tr>\n",
       "    <tr>\n",
       "      <th>2</th>\n",
       "      <td>193700</td>\n",
       "      <td>26209</td>\n",
       "      <td>3</td>\n",
       "      <td>6</td>\n",
       "      <td>16</td>\n",
       "      <td>6</td>\n",
       "      <td>produce</td>\n",
       "      <td>fresh fruits</td>\n",
       "      <td>1</td>\n",
       "    </tr>\n",
       "    <tr>\n",
       "      <th>3</th>\n",
       "      <td>193700</td>\n",
       "      <td>42736</td>\n",
       "      <td>4</td>\n",
       "      <td>6</td>\n",
       "      <td>16</td>\n",
       "      <td>6</td>\n",
       "      <td>dairy eggs</td>\n",
       "      <td>butter</td>\n",
       "      <td>1</td>\n",
       "    </tr>\n",
       "    <tr>\n",
       "      <th>4</th>\n",
       "      <td>193700</td>\n",
       "      <td>34243</td>\n",
       "      <td>5</td>\n",
       "      <td>6</td>\n",
       "      <td>16</td>\n",
       "      <td>6</td>\n",
       "      <td>produce</td>\n",
       "      <td>fresh vegetables</td>\n",
       "      <td>0</td>\n",
       "    </tr>\n",
       "  </tbody>\n",
       "</table>\n",
       "</div>"
      ],
      "text/plain": [
       "  user_id  product_id  add_to_cart_order  order_dow  order_hour_of_day  \\\n",
       "0  193700       32747                  1          6                 16   \n",
       "1  193700       19508                  2          6                 16   \n",
       "2  193700       26209                  3          6                 16   \n",
       "3  193700       42736                  4          6                 16   \n",
       "4  193700       34243                  5          6                 16   \n",
       "\n",
       "   days_since_prior_order  department                 aisle  target  \n",
       "0                       6  dairy eggs                  milk       1  \n",
       "1                       6      bakery  tortillas flat bread       0  \n",
       "2                       6     produce          fresh fruits       1  \n",
       "3                       6  dairy eggs                butter       1  \n",
       "4                       6     produce      fresh vegetables       0  "
      ]
     },
     "execution_count": 10,
     "metadata": {},
     "output_type": "execute_result"
    }
   ],
   "source": [
    "data.head()"
   ]
  },
  {
   "cell_type": "code",
   "execution_count": 11,
   "metadata": {
    "collapsed": true
   },
   "outputs": [],
   "source": [
    "encoder = OneHotEncoder()\n",
    "label_encoder = LabelEncoder()\n",
    "data_label_encoded = label_encoder.fit_transform(data['product_id'])\n",
    "data['product_id2'] = data_label_encoded"
   ]
  },
  {
   "cell_type": "code",
   "execution_count": 12,
   "metadata": {
    "collapsed": true
   },
   "outputs": [],
   "source": [
    "data_feature_one_hot_encoded = encoder.fit_transform(data[['product_id2']].as_matrix())"
   ]
  },
  {
   "cell_type": "code",
   "execution_count": 13,
   "metadata": {
    "collapsed": true
   },
   "outputs": [],
   "source": [
    "#data_feature_one_hot_encoded = encoder.fit_transform(data['product_id2'].values.reshape(-1, 1))\n",
    "#transformer = LabelBinarizer()\n",
    "#data_feature_LabelBinarizer = transformer.fit_transform(data[['product_id2']].as_matrix())"
   ]
  },
  {
   "cell_type": "code",
   "execution_count": 14,
   "metadata": {
    "collapsed": true
   },
   "outputs": [],
   "source": [
    "#pd.DataFrame(data_feature_one_hot_encoded[:49677].toarray())[0].sum()"
   ]
  },
  {
   "cell_type": "code",
   "execution_count": 15,
   "metadata": {},
   "outputs": [
    {
     "data": {
      "text/plain": [
       "(32434489, 49677)"
      ]
     },
     "execution_count": 15,
     "metadata": {},
     "output_type": "execute_result"
    }
   ],
   "source": [
    "data_feature_one_hot_encoded.shape"
   ]
  },
  {
   "cell_type": "code",
   "execution_count": 16,
   "metadata": {
    "collapsed": true
   },
   "outputs": [],
   "source": [
    "transformer1 = LabelBinarizer()\n",
    "did = pd.DataFrame(transformer1.fit_transform(data['department']), columns=transformer1.classes_)"
   ]
  },
  {
   "cell_type": "code",
   "execution_count": 17,
   "metadata": {
    "collapsed": true
   },
   "outputs": [],
   "source": [
    "transformer2 = LabelBinarizer()\n",
    "aid = pd.DataFrame(transformer2.fit_transform(data['aisle']), columns=transformer2.classes_)"
   ]
  },
  {
   "cell_type": "code",
   "execution_count": 16,
   "metadata": {},
   "outputs": [
    {
     "data": {
      "text/plain": [
       "'ff'"
      ]
     },
     "execution_count": 16,
     "metadata": {},
     "output_type": "execute_result"
    }
   ],
   "source": [
    "'ff'"
   ]
  },
  {
   "cell_type": "code",
   "execution_count": 17,
   "metadata": {
    "collapsed": true
   },
   "outputs": [],
   "source": [
    "#concat columns\n",
    "#result = pd.concat([data, did,aid], axis=1)"
   ]
  },
  {
   "cell_type": "code",
   "execution_count": 18,
   "metadata": {},
   "outputs": [],
   "source": [
    "#result.head()"
   ]
  },
  {
   "cell_type": "code",
   "execution_count": 19,
   "metadata": {
    "collapsed": true
   },
   "outputs": [],
   "source": [
    "# del result['user_id']\n",
    "# del result['product_id']\n",
    "# del result['department']\n",
    "# del result['aisle']\n",
    "# del result['product_id2']"
   ]
  },
  {
   "cell_type": "code",
   "execution_count": 20,
   "metadata": {},
   "outputs": [
    {
     "data": {
      "text/html": [
       "<div>\n",
       "<style scoped>\n",
       "    .dataframe tbody tr th:only-of-type {\n",
       "        vertical-align: middle;\n",
       "    }\n",
       "\n",
       "    .dataframe tbody tr th {\n",
       "        vertical-align: top;\n",
       "    }\n",
       "\n",
       "    .dataframe thead th {\n",
       "        text-align: right;\n",
       "    }\n",
       "</style>\n",
       "<table border=\"1\" class=\"dataframe\">\n",
       "  <thead>\n",
       "    <tr style=\"text-align: right;\">\n",
       "      <th></th>\n",
       "      <th>user_id</th>\n",
       "      <th>product_id</th>\n",
       "      <th>add_to_cart_order</th>\n",
       "      <th>order_dow</th>\n",
       "      <th>order_hour_of_day</th>\n",
       "      <th>days_since_prior_order</th>\n",
       "      <th>department</th>\n",
       "      <th>aisle</th>\n",
       "      <th>target</th>\n",
       "      <th>product_id2</th>\n",
       "    </tr>\n",
       "  </thead>\n",
       "  <tbody>\n",
       "    <tr>\n",
       "      <th>0</th>\n",
       "      <td>193700</td>\n",
       "      <td>32747</td>\n",
       "      <td>1</td>\n",
       "      <td>6</td>\n",
       "      <td>16</td>\n",
       "      <td>6</td>\n",
       "      <td>dairy eggs</td>\n",
       "      <td>milk</td>\n",
       "      <td>1</td>\n",
       "      <td>32741</td>\n",
       "    </tr>\n",
       "    <tr>\n",
       "      <th>1</th>\n",
       "      <td>193700</td>\n",
       "      <td>19508</td>\n",
       "      <td>2</td>\n",
       "      <td>6</td>\n",
       "      <td>16</td>\n",
       "      <td>6</td>\n",
       "      <td>bakery</td>\n",
       "      <td>tortillas flat bread</td>\n",
       "      <td>0</td>\n",
       "      <td>19504</td>\n",
       "    </tr>\n",
       "    <tr>\n",
       "      <th>2</th>\n",
       "      <td>193700</td>\n",
       "      <td>26209</td>\n",
       "      <td>3</td>\n",
       "      <td>6</td>\n",
       "      <td>16</td>\n",
       "      <td>6</td>\n",
       "      <td>produce</td>\n",
       "      <td>fresh fruits</td>\n",
       "      <td>1</td>\n",
       "      <td>26204</td>\n",
       "    </tr>\n",
       "    <tr>\n",
       "      <th>3</th>\n",
       "      <td>193700</td>\n",
       "      <td>42736</td>\n",
       "      <td>4</td>\n",
       "      <td>6</td>\n",
       "      <td>16</td>\n",
       "      <td>6</td>\n",
       "      <td>dairy eggs</td>\n",
       "      <td>butter</td>\n",
       "      <td>1</td>\n",
       "      <td>42728</td>\n",
       "    </tr>\n",
       "    <tr>\n",
       "      <th>4</th>\n",
       "      <td>193700</td>\n",
       "      <td>34243</td>\n",
       "      <td>5</td>\n",
       "      <td>6</td>\n",
       "      <td>16</td>\n",
       "      <td>6</td>\n",
       "      <td>produce</td>\n",
       "      <td>fresh vegetables</td>\n",
       "      <td>0</td>\n",
       "      <td>34237</td>\n",
       "    </tr>\n",
       "  </tbody>\n",
       "</table>\n",
       "</div>"
      ],
      "text/plain": [
       "  user_id  product_id  add_to_cart_order  order_dow  order_hour_of_day  \\\n",
       "0  193700       32747                  1          6                 16   \n",
       "1  193700       19508                  2          6                 16   \n",
       "2  193700       26209                  3          6                 16   \n",
       "3  193700       42736                  4          6                 16   \n",
       "4  193700       34243                  5          6                 16   \n",
       "\n",
       "   days_since_prior_order  department                 aisle  target  \\\n",
       "0                       6  dairy eggs                  milk       1   \n",
       "1                       6      bakery  tortillas flat bread       0   \n",
       "2                       6     produce          fresh fruits       1   \n",
       "3                       6  dairy eggs                butter       1   \n",
       "4                       6     produce      fresh vegetables       0   \n",
       "\n",
       "   product_id2  \n",
       "0        32741  \n",
       "1        19504  \n",
       "2        26204  \n",
       "3        42728  \n",
       "4        34237  "
      ]
     },
     "execution_count": 20,
     "metadata": {},
     "output_type": "execute_result"
    }
   ],
   "source": [
    "data.head()"
   ]
  },
  {
   "cell_type": "code",
   "execution_count": 21,
   "metadata": {
    "collapsed": true
   },
   "outputs": [],
   "source": [
    "del data['user_id']\n",
    "del data['product_id']\n",
    "del data['department']\n",
    "del data['aisle']\n",
    "del data['product_id2']"
   ]
  },
  {
   "cell_type": "code",
   "execution_count": 22,
   "metadata": {},
   "outputs": [
    {
     "data": {
      "text/html": [
       "<div>\n",
       "<style scoped>\n",
       "    .dataframe tbody tr th:only-of-type {\n",
       "        vertical-align: middle;\n",
       "    }\n",
       "\n",
       "    .dataframe tbody tr th {\n",
       "        vertical-align: top;\n",
       "    }\n",
       "\n",
       "    .dataframe thead th {\n",
       "        text-align: right;\n",
       "    }\n",
       "</style>\n",
       "<table border=\"1\" class=\"dataframe\">\n",
       "  <thead>\n",
       "    <tr style=\"text-align: right;\">\n",
       "      <th></th>\n",
       "      <th>add_to_cart_order</th>\n",
       "      <th>order_dow</th>\n",
       "      <th>order_hour_of_day</th>\n",
       "      <th>days_since_prior_order</th>\n",
       "      <th>target</th>\n",
       "    </tr>\n",
       "  </thead>\n",
       "  <tbody>\n",
       "    <tr>\n",
       "      <th>0</th>\n",
       "      <td>1</td>\n",
       "      <td>6</td>\n",
       "      <td>16</td>\n",
       "      <td>6</td>\n",
       "      <td>1</td>\n",
       "    </tr>\n",
       "    <tr>\n",
       "      <th>1</th>\n",
       "      <td>2</td>\n",
       "      <td>6</td>\n",
       "      <td>16</td>\n",
       "      <td>6</td>\n",
       "      <td>0</td>\n",
       "    </tr>\n",
       "    <tr>\n",
       "      <th>2</th>\n",
       "      <td>3</td>\n",
       "      <td>6</td>\n",
       "      <td>16</td>\n",
       "      <td>6</td>\n",
       "      <td>1</td>\n",
       "    </tr>\n",
       "    <tr>\n",
       "      <th>3</th>\n",
       "      <td>4</td>\n",
       "      <td>6</td>\n",
       "      <td>16</td>\n",
       "      <td>6</td>\n",
       "      <td>1</td>\n",
       "    </tr>\n",
       "    <tr>\n",
       "      <th>4</th>\n",
       "      <td>5</td>\n",
       "      <td>6</td>\n",
       "      <td>16</td>\n",
       "      <td>6</td>\n",
       "      <td>0</td>\n",
       "    </tr>\n",
       "  </tbody>\n",
       "</table>\n",
       "</div>"
      ],
      "text/plain": [
       "   add_to_cart_order  order_dow  order_hour_of_day  days_since_prior_order  \\\n",
       "0                  1          6                 16                       6   \n",
       "1                  2          6                 16                       6   \n",
       "2                  3          6                 16                       6   \n",
       "3                  4          6                 16                       6   \n",
       "4                  5          6                 16                       6   \n",
       "\n",
       "   target  \n",
       "0       1  \n",
       "1       0  \n",
       "2       1  \n",
       "3       1  \n",
       "4       0  "
      ]
     },
     "execution_count": 22,
     "metadata": {},
     "output_type": "execute_result"
    }
   ],
   "source": [
    "data.head()"
   ]
  },
  {
   "cell_type": "code",
   "execution_count": 23,
   "metadata": {
    "collapsed": true
   },
   "outputs": [],
   "source": [
    "#no work memory issue\n",
    "# transformer = LabelBinarizer()\n",
    "# pid = pd.DataFrame(transformer.fit_transform(data['product_id2']), columns=transformer.classes_)"
   ]
  },
  {
   "cell_type": "code",
   "execution_count": 24,
   "metadata": {
    "collapsed": true,
    "scrolled": true
   },
   "outputs": [],
   "source": [
    "#[x for x in result.columns]"
   ]
  },
  {
   "cell_type": "code",
   "execution_count": 25,
   "metadata": {},
   "outputs": [
    {
     "data": {
      "text/plain": [
       "(49677,)"
      ]
     },
     "execution_count": 25,
     "metadata": {},
     "output_type": "execute_result"
    }
   ],
   "source": [
    "data_feature_one_hot_encoded[:7].toarray()[0].shape"
   ]
  },
  {
   "cell_type": "code",
   "execution_count": 26,
   "metadata": {
    "collapsed": true
   },
   "outputs": [],
   "source": [
    "# scaler = StandardScaler(copy=True)\n",
    "# # we have created a standardization based on the training data\n",
    "# X_clean = scaler.fit(X_mailing_train).transform(X_mailing_train)"
   ]
  },
  {
   "cell_type": "code",
   "execution_count": 27,
   "metadata": {
    "collapsed": true
   },
   "outputs": [],
   "source": [
    "# k= np.array([[ 0.,  0.,  0., 0.,  0.,  0.],[6.,6.,6.,6.,6.,6.]])\n",
    "# j= np.array([[ 1.,  3.,  4., 5.,  6.,  7.],[2.,2.,2.,2.,2.,2.]])\n",
    "# pd.DataFrame(np.hstack((k,j))).as_matrix()"
   ]
  },
  {
   "cell_type": "code",
   "execution_count": 28,
   "metadata": {
    "collapsed": true
   },
   "outputs": [],
   "source": [
    "#np.hstack((k,j))"
   ]
  },
  {
   "cell_type": "code",
   "execution_count": 29,
   "metadata": {
    "collapsed": true
   },
   "outputs": [],
   "source": [
    "target = data['target'].as_matrix()"
   ]
  },
  {
   "cell_type": "code",
   "execution_count": 30,
   "metadata": {
    "collapsed": true
   },
   "outputs": [],
   "source": [
    "data2 = data.drop(columns=['target']).as_matrix()"
   ]
  },
  {
   "cell_type": "code",
   "execution_count": 31,
   "metadata": {
    "collapsed": true
   },
   "outputs": [],
   "source": [
    "did2 = did.as_matrix() \n",
    "aid2 = aid.as_matrix() "
   ]
  },
  {
   "cell_type": "code",
   "execution_count": 32,
   "metadata": {},
   "outputs": [
    {
     "name": "stdout",
     "output_type": "stream",
     "text": [
      "(32434489, 4) (32434489, 21) (32434489, 134) (32434489, 49677)\n"
     ]
    }
   ],
   "source": [
    "print(data2.shape ,\n",
    "      did2.shape,aid2.shape,data_feature_one_hot_encoded.shape)"
   ]
  },
  {
   "cell_type": "code",
   "execution_count": 33,
   "metadata": {
    "collapsed": true
   },
   "outputs": [],
   "source": [
    "### see all variables\n",
    "# dir()"
   ]
  },
  {
   "cell_type": "code",
   "execution_count": 34,
   "metadata": {},
   "outputs": [
    {
     "data": {
      "text/plain": [
       "array([[ 1,  6, 16,  6],\n",
       "       [ 2,  6, 16,  6],\n",
       "       [ 3,  6, 16,  6],\n",
       "       [ 4,  6, 16,  6],\n",
       "       [ 5,  6, 16,  6]])"
      ]
     },
     "execution_count": 34,
     "metadata": {},
     "output_type": "execute_result"
    }
   ],
   "source": [
    "data2[:5]"
   ]
  },
  {
   "cell_type": "code",
   "execution_count": 35,
   "metadata": {},
   "outputs": [
    {
     "data": {
      "text/plain": [
       "(32434489, 4)"
      ]
     },
     "execution_count": 35,
     "metadata": {},
     "output_type": "execute_result"
    }
   ],
   "source": [
    "data2.shape"
   ]
  },
  {
   "cell_type": "code",
   "execution_count": 36,
   "metadata": {},
   "outputs": [
    {
     "data": {
      "text/plain": [
       "(32434489, 49677)"
      ]
     },
     "execution_count": 36,
     "metadata": {},
     "output_type": "execute_result"
    }
   ],
   "source": [
    "data_feature_one_hot_encoded.shape"
   ]
  },
  {
   "cell_type": "code",
   "execution_count": 37,
   "metadata": {
    "collapsed": true
   },
   "outputs": [],
   "source": [
    "from scipy import sparse"
   ]
  },
  {
   "cell_type": "code",
   "execution_count": 38,
   "metadata": {
    "collapsed": true
   },
   "outputs": [],
   "source": [
    "### sparse.hstack because this is a sparsse matrix also needed to clear strings. numerics only\n",
    "###\n",
    "#fin = np.hstack( (data2, data_feature_one_hot_encoded ))\n",
    "fin = sparse.hstack( (data2, data_feature_one_hot_encoded ))\n",
    "fin = sparse.hstack( (fin, did2))\n",
    "fin = sparse.hstack( (fin, aid2))"
   ]
  },
  {
   "cell_type": "code",
   "execution_count": 44,
   "metadata": {},
   "outputs": [
    {
     "data": {
      "text/plain": [
       "(32434489, 49836)"
      ]
     },
     "execution_count": 44,
     "metadata": {},
     "output_type": "execute_result"
    }
   ],
   "source": [
    "fin.shape"
   ]
  },
  {
   "cell_type": "code",
   "execution_count": 42,
   "metadata": {},
   "outputs": [],
   "source": [
    "#scaler = StandardScaler(copy=True)\n",
    "# we have created a standardization based on the training data\n",
    "#fin = scaler.fit(fin).transform(fin)\n",
    "#Couldnt standardize sparse"
   ]
  },
  {
   "cell_type": "code",
   "execution_count": 46,
   "metadata": {},
   "outputs": [
    {
     "name": "stdout",
     "output_type": "stream",
     "text": [
      "{} LogisticRegression\n",
      "{'loss': 'log', 'penalty': 'l2'} SGDClassifier\n"
     ]
    }
   ],
   "source": [
    "Models = ['LogisticRegression', 'SGDClassifier']\n",
    "params = [{}, {\"loss\": \"log\", \"penalty\": \"l2\"}]\n",
    "for param, Model in zip(params, Models):\n",
    "    print(param,Model)"
   ]
  },
  {
   "cell_type": "code",
   "execution_count": 40,
   "metadata": {},
   "outputs": [
    {
     "data": {
      "text/plain": [
       "array([1, 0, 1, ..., 1, 1, 1])"
      ]
     },
     "execution_count": 40,
     "metadata": {},
     "output_type": "execute_result"
    }
   ],
   "source": [
    "target"
   ]
  },
  {
   "cell_type": "code",
   "execution_count": 47,
   "metadata": {
    "collapsed": true
   },
   "outputs": [],
   "source": [
    "from sklearn.linear_model import SGDClassifier\n",
    "#clf = SGDClassifier()\n",
    "#clf.fit(X, Y)"
   ]
  },
  {
   "cell_type": "code",
   "execution_count": 48,
   "metadata": {},
   "outputs": [
    {
     "name": "stderr",
     "output_type": "stream",
     "text": [
      "C:\\Anaconda\\lib\\site-packages\\sklearn\\linear_model\\stochastic_gradient.py:128: FutureWarning: max_iter and tol parameters have been added in <class 'sklearn.linear_model.stochastic_gradient.SGDClassifier'> in 0.19. If both are left unset, they default to max_iter=5 and tol=None. If tol is not None, max_iter defaults to max_iter=1000. From 0.21, default max_iter will be 1000, and default tol will be 1e-3.\n",
      "  \"and default tol will be 1e-3.\" % type(self), FutureWarning)\n",
      "C:\\Anaconda\\lib\\site-packages\\sklearn\\linear_model\\stochastic_gradient.py:128: FutureWarning: max_iter and tol parameters have been added in <class 'sklearn.linear_model.stochastic_gradient.SGDClassifier'> in 0.19. If both are left unset, they default to max_iter=5 and tol=None. If tol is not None, max_iter defaults to max_iter=1000. From 0.21, default max_iter will be 1000, and default tol will be 1e-3.\n",
      "  \"and default tol will be 1e-3.\" % type(self), FutureWarning)\n",
      "C:\\Anaconda\\lib\\site-packages\\sklearn\\linear_model\\stochastic_gradient.py:128: FutureWarning: max_iter and tol parameters have been added in <class 'sklearn.linear_model.stochastic_gradient.SGDClassifier'> in 0.19. If both are left unset, they default to max_iter=5 and tol=None. If tol is not None, max_iter defaults to max_iter=1000. From 0.21, default max_iter will be 1000, and default tol will be 1e-3.\n",
      "  \"and default tol will be 1e-3.\" % type(self), FutureWarning)\n",
      "C:\\Anaconda\\lib\\site-packages\\sklearn\\linear_model\\stochastic_gradient.py:128: FutureWarning: max_iter and tol parameters have been added in <class 'sklearn.linear_model.stochastic_gradient.SGDClassifier'> in 0.19. If both are left unset, they default to max_iter=5 and tol=None. If tol is not None, max_iter defaults to max_iter=1000. From 0.21, default max_iter will be 1000, and default tol will be 1e-3.\n",
      "  \"and default tol will be 1e-3.\" % type(self), FutureWarning)\n",
      "C:\\Anaconda\\lib\\site-packages\\sklearn\\linear_model\\stochastic_gradient.py:128: FutureWarning: max_iter and tol parameters have been added in <class 'sklearn.linear_model.stochastic_gradient.SGDClassifier'> in 0.19. If both are left unset, they default to max_iter=5 and tol=None. If tol is not None, max_iter defaults to max_iter=1000. From 0.21, default max_iter will be 1000, and default tol will be 1e-3.\n",
      "  \"and default tol will be 1e-3.\" % type(self), FutureWarning)\n"
     ]
    },
    {
     "data": {
      "text/plain": [
       "array([ 0.62836603,  0.63600507,  0.63258109,  0.63884104,  0.63839722])"
      ]
     },
     "execution_count": 48,
     "metadata": {},
     "output_type": "execute_result"
    }
   ],
   "source": [
    "#logreg = LogisticRegression()\n",
    "clf = SGDClassifier(loss='log' , penalty = 'l2')\n",
    "clf.fit(fin, target)\n",
    "scores = cross_val_score(clf, fin, target, cv=5)\n",
    "scores                                              "
   ]
  },
  {
   "cell_type": "code",
   "execution_count": 52,
   "metadata": {},
   "outputs": [
    {
     "data": {
      "text/plain": [
       "0.63483808999999991"
      ]
     },
     "execution_count": 52,
     "metadata": {},
     "output_type": "execute_result"
    }
   ],
   "source": [
    "np.mean([ 0.62836603,  0.63600507,  0.63258109,  0.63884104,  0.63839722])"
   ]
  },
  {
   "cell_type": "code",
   "execution_count": 54,
   "metadata": {},
   "outputs": [
    {
     "name": "stderr",
     "output_type": "stream",
     "text": [
      "C:\\Anaconda\\lib\\site-packages\\sklearn\\linear_model\\stochastic_gradient.py:128: FutureWarning: max_iter and tol parameters have been added in <class 'sklearn.linear_model.stochastic_gradient.SGDClassifier'> in 0.19. If both are left unset, they default to max_iter=5 and tol=None. If tol is not None, max_iter defaults to max_iter=1000. From 0.21, default max_iter will be 1000, and default tol will be 1e-3.\n",
      "  \"and default tol will be 1e-3.\" % type(self), FutureWarning)\n"
     ]
    },
    {
     "data": {
      "text/plain": [
       "SGDClassifier(alpha=0.0001, average=False, class_weight=None, epsilon=0.1,\n",
       "       eta0=0.0, fit_intercept=True, l1_ratio=0.15,\n",
       "       learning_rate='optimal', loss='log', max_iter=None, n_iter=None,\n",
       "       n_jobs=1, penalty='l2', power_t=0.5, random_state=None,\n",
       "       shuffle=True, tol=None, verbose=0, warm_start=False)"
      ]
     },
     "execution_count": 54,
     "metadata": {},
     "output_type": "execute_result"
    }
   ],
   "source": [
    "clf.fit(fin, target)"
   ]
  },
  {
   "cell_type": "code",
   "execution_count": null,
   "metadata": {
    "collapsed": true
   },
   "outputs": [],
   "source": [
    "#randomforest\n",
    "clf2 = RandomForestClassifier(n_jobs=4)\n",
    "clf2.fit(fin, target)\n",
    "print('fit1 done')\n",
    "#scores2 = cross_val_score(clf2, fin, target, cv=5)\n",
    "#scores2                                              "
   ]
  },
  {
   "cell_type": "code",
   "execution_count": null,
   "metadata": {
    "collapsed": true
   },
   "outputs": [],
   "source": []
  },
  {
   "cell_type": "code",
   "execution_count": null,
   "metadata": {
    "collapsed": true
   },
   "outputs": [],
   "source": []
  },
  {
   "cell_type": "code",
   "execution_count": 57,
   "metadata": {},
   "outputs": [],
   "source": [
    "data3 = pd.read_sql_query(\"\"\"select b.[user_id],a.[order_id],\n",
    "a.[product_id],a.[reordered],c.[freq_product_laplace],c.[freq_product]\n",
    "from [dbo].[order_products__prior] a\n",
    "left join dbo.orders b on a.[order_id]=b.[order_id]\n",
    "left join [dbo].[frequency_probability] c on b.[user_id]=c.[user_id] and a.[product_id]=c.[product_id]\n",
    "\"\"\",cnxn, coerce_float = True)\n",
    "\n",
    "data3['target'] = data3.reordered.astype(int)"
   ]
  },
  {
   "cell_type": "code",
   "execution_count": 58,
   "metadata": {
    "collapsed": true
   },
   "outputs": [],
   "source": [
    "predicts =clf.predict_proba(fin)"
   ]
  },
  {
   "cell_type": "code",
   "execution_count": 64,
   "metadata": {},
   "outputs": [
    {
     "data": {
      "image/png": "[encoded data removed]",
      "text/plain": [
       "<matplotlib.figure.Figure at 0x274bbf17cc0>"
      ]
     },
     "metadata": {},
     "output_type": "display_data"
    }
   ],
   "source": [
    "# Get the probability of Y_test records being = 1\n",
    "\n",
    "# Use the metrics.roc_curve function to get the true positive rate (tpr) and false positive rate (fpr)\n",
    "fpr, tpr, thresholds = metrics.roc_curve(data3['target'], data3['freq_product_laplace'])\n",
    "fprSGD, tprSGD, thresholdsSGD = metrics.roc_curve(target, predicts[:,1])\n",
    "    \n",
    "\n",
    "# Plot the ROC curve\n",
    "plt.plot(fpr, tpr, label=\"Heuristic\" )#, label=\"C=%s\" % c)\n",
    "plt.plot(fprSGD, tprSGD, label=\"SGD_Logistic\" )\n",
    "    \n",
    "plt.xlabel(\"False positive rate (fpr)\")\n",
    "plt.ylabel(\"True positive rate (tpr)\")\n",
    "plt.plot([0,1], [0,1], 'k--', label=\"Random\")\n",
    "plt.legend(loc=2)\n",
    "plt.show()"
   ]
  },
  {
   "cell_type": "code",
   "execution_count": 69,
   "metadata": {},
   "outputs": [],
   "source": [
    "# for x,c in zip(tprSGD,thresholdsSGD):\n",
    "#     if x>=.5 and x<=.6 :\n",
    "#         print(c) 0.627"
   ]
  },
  {
   "cell_type": "code",
   "execution_count": 70,
   "metadata": {},
   "outputs": [
    {
     "data": {
      "image/png": "[encoded data removed]",
      "text/plain": [
       "<matplotlib.figure.Figure at 0x271367d0400>"
      ]
     },
     "metadata": {},
     "output_type": "display_data"
    }
   ],
   "source": [
    "# Get the predicted value and the probability of Y_test records being = 1\n",
    "Y_test_predicted = np.array([ 1 if p >= 0.0122 else 0 for p in data3['freq_product_laplace'] ])\n",
    "Y_test_probability = np.array(data3['freq_product_laplace'])\n",
    "#Y_test_probability_1 = \n",
    "Y_test =np.array(data3['target'])\n",
    "\n",
    "\n",
    "# Sort these predictions, probabilities, and the true value in descending order of probability\n",
    "order = np.argsort(Y_test_probability)[::-1]\n",
    "Y_test_predicted_sorted = Y_test_predicted[order]\n",
    "Y_test_sorted = np.array(Y_test)[order]\n",
    "\n",
    "#SGD\n",
    "Y_test_predictedSGD = np.array([ 1 if p >= 0.627 else 0 for p in predicts[:,1] ])\n",
    "orderSGD = np.argsort(predicts[:,1])[::-1]\n",
    "Y_test_predicted_sortedSGD = Y_test_predictedSGD[orderSGD]\n",
    "Y_test_sortedSGD = np.array(Y_test)[orderSGD]\n",
    "\n",
    "total_test_positives = Y_test.sum()\n",
    "\n",
    "y_cumulative = Y_test_sorted.cumsum()*100/float(total_test_positives)\n",
    "x_cumulative = np.linspace(1, len(y_cumulative), len(y_cumulative))*100/len(y_cumulative)\n",
    "y_cumulativeSGD = Y_test_sortedSGD.cumsum()*100/float(total_test_positives)\n",
    "\n",
    "# Plot\n",
    "plt.plot(x_cumulative, y_cumulative, label=\"Heuristic\")\n",
    "plt.plot(x_cumulative, y_cumulativeSGD, label=\"SGD\")\n",
    "plt.plot([0,100], [0,100], 'k--', label=\"Random\")\n",
    "plt.xlabel(\"Percentage of test instances targeted (decreasing score)\")\n",
    "plt.ylabel(\"Percentage of positives targeted\")\n",
    "plt.title(\"Cumulative response curve\")\n",
    "plt.legend()\n",
    "plt.show()"
   ]
  },
  {
   "cell_type": "code",
   "execution_count": null,
   "metadata": {
    "collapsed": true
   },
   "outputs": [],
   "source": []
  }
 ],
 "metadata": {
  "kernelspec": {
   "display_name": "Python [conda root]",
   "language": "python",
   "name": "conda-root-py"
  },
  "language_info": {
   "codemirror_mode": {
    "name": "ipython",
    "version": 3
   },
   "file_extension": ".py",
   "mimetype": "text/x-python",
   "name": "python",
   "nbconvert_exporter": "python",
   "pygments_lexer": "ipython3",
   "version": "3.6.3"
  }
 },
 "nbformat": 4,
 "nbformat_minor": 2
}
